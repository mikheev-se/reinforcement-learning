{
  "nbformat": 4,
  "nbformat_minor": 0,
  "metadata": {
    "colab": {
      "provenance": [],
      "toc_visible": true
    },
    "kernelspec": {
      "name": "python3",
      "display_name": "Python 3"
    },
    "language_info": {
      "name": "python"
    },
    "gpuClass": "standard"
  },
  "cells": [
    {
      "cell_type": "markdown",
      "source": [
        "# Лабораторная работа 3. Оптимизация функции ценности. Методы SARSA и Q-Learning\n"
      ],
      "metadata": {
        "id": "kmOHHlg6MzSP"
      }
    },
    {
      "cell_type": "markdown",
      "source": [
        "В этой лабораторной работе мы изучим базовый, классический подход к обучению агентов - так называемый TD (Time difference) подход, с помощью которого будем оптимизировать функцию полезности. Рассмотрим методы SARSA и Q-Learning.\n",
        "<br /><br />\n",
        "В прошлой лабораторной работе мы с вами познакомились со стратегиями - функциями, которые на основе состояния определяют дальнейшее действие. Мы увидели, что задачи обучения с подкреплением можно решить путем подбора оптимальной стратегии.\n",
        "<br /><br />"
      ],
      "metadata": {
        "id": "o5TqD_5jrD0I"
      }
    },
    {
      "cell_type": "markdown",
      "source": [
        "Однако, помимо стратегии, в обучении с подкреплением существуют и другие функции. Самая важный класс функций - функции полезности - $Q({\\pi}, s, a)$ и $V({\\pi}, s)$\n",
        "<br /><br />\n",
        "Здесь и далее {\\pi} - стратегия, s - текущее состояние (наблюдение); a - действие, которое принимаем в текущем состоянии; s' - последующее состояние; a' - действие, которое будем принимать в последующем состоянии."
      ],
      "metadata": {
        "id": "gc-vmjKnbndq"
      }
    },
    {
      "cell_type": "markdown",
      "source": [
        "Что представляют собой эти функции (если не строго)?\n",
        "<br /><br />\n",
        "$V({\\pi}, s) = r(r{s_i + {\\gamma}{r_i} + {\\gamma}^2{r_{i+1}}} + ...)$\n",
        "<br /><br />\n",
        "$Q({\\pi}, s, a) = r(r{s_i + {\\gamma}{r_i} + {\\gamma}^2{r_{i+1}}} + ...)$\n",
        "<br /><br />\n",
        "Функция V показывает, какую выгоду мы получим, если находясь в текущем состоянии начнем действовать до конца с текущей стратегией. При этом, при подсчете функции мы ориентируемся на награду, которая и позволяет нам судить о полезности каждого состояния.\n",
        "<br /><br />\n",
        "Функция Q показывает, какую выгоду мы получим, если находясь в текущем состоянии <b>сначала примем действие a, а потом начнем действовать в соответствии со стратегией</b>."
      ],
      "metadata": {
        "id": "FdWWgGNBcPUx"
      }
    },
    {
      "cell_type": "markdown",
      "source": [
        "Вы спросите: что такое гамма ($\\gamma$)? Это важный гиперпараметр, который называется <b>коэффициентом дисконтирования</b>. Он выбирается от 0 до 1. Его смысл в том, что действия в далеком будущем не так значимы для агента, как ближайшие действия."
      ],
      "metadata": {
        "id": "_JtYX0S2eYW_"
      }
    },
    {
      "cell_type": "markdown",
      "source": [
        "Таким образом, мы можем для каждой пары (состояние, действие) посчитать его полезность. Построить матрицу полезности (Q-матрицу). И уже по этой матрице (выбирая действие с максимальной полезностью) агент будет решать свою задачу."
      ],
      "metadata": {
        "id": "ZCji5SWAe0uv"
      }
    },
    {
      "cell_type": "markdown",
      "source": [
        "Рассматриваемые в данной работе методы SARSA и Q-Learning основываются на оптимизации функции полезности Q. Отличаются они формулами, по которым происходит изменение ячейки Q-матрицы."
      ],
      "metadata": {
        "id": "G8aXZDYef271"
      }
    },
    {
      "cell_type": "markdown",
      "source": [
        "Остается разобраться еще с одним моментом. Понятно, как будет проходить обучение: агент будет выбирать действие с максимальным значением q (максимум в строке матрицы). Далее он будет обновлять это значение по одной из формул (зависит от метода - SARSA или Q-Learning)."
      ],
      "metadata": {
        "id": "IG2dskB8gr6n"
      }
    },
    {
      "cell_type": "markdown",
      "source": [
        "Проблема в том, что это теоретически приведет нас не к глобальной, а к локальной оптимизации. На примере - игра Frozen Lake из прошлой ЛР (в этот раз вы ее также увидите). Оптимизация функции Q так или иначе приведет к тому, что агент научится доходить до конца. Однако, никто не гарантирует, что это будет самый оптимальный путь (может быть, он будет ходить по кругу, а потом все-таки дойдет до финиша). Думаю, вы поняли."
      ],
      "metadata": {
        "id": "KdKWtnmLhD_9"
      }
    },
    {
      "cell_type": "markdown",
      "source": [
        "Оказывается, что для решения этой проблемы достаточно не все время выбирать действие с максимальным значением полезноти, а иногда и действовать случайным образом (случайное действие выбирать). Например, с некоторой вероятностью $\\epsilon$. А этот самый $\\epsilon$ в ходе обучения постоянно уменьшать - агент ведь со временем приближает функцию Q к оптимуму, а значит что и доверять выбору максимального значения q можно уже больше."
      ],
      "metadata": {
        "id": "q4j1J4DOgqDm"
      }
    },
    {
      "cell_type": "markdown",
      "source": [
        "Такой подход называется $\\epsilon$-жадная стратегия (жадная, поскольку предполагется выбор лучшего варианта в данном состоянии - также работают и жадные алгоритмы, вспомните предмет Алгоритмы)."
      ],
      "metadata": {
        "id": "pxFG4-Iyh_oj"
      }
    },
    {
      "cell_type": "markdown",
      "source": [
        "Теперь осталось написать формулы обновления ячеек Q-матрицы.\n",
        "<br /><br />\n",
        "Для метода SARSA:\n",
        "$Q(s, a) = Q(s, a) + \\alpha[r_t+{\\gamma}Q(s', a')-Q(s, a)]$ \n",
        "<br /><br />\n",
        "Для метода Q-Learning:\n",
        "$Q(s, a) = Q(s, a) + \\alpha[r_t+{\\gamma}max(Q(s', a'))-Q(s, a)]$ "
      ],
      "metadata": {
        "id": "ZB_zXwKzb6lJ"
      }
    },
    {
      "cell_type": "markdown",
      "source": [
        "Здесь $\\alpha$ - это скорость обучения (learning rate). Его смысл точно такой такой же, как и при обучении нейронных сетей. И точно также он находится в диапазоне [0, 1]."
      ],
      "metadata": {
        "id": "Kik1xkQnkpJB"
      }
    },
    {
      "cell_type": "markdown",
      "source": [
        "Сделаем следующим образом. Реализуем метод SARSA в окружении Frozen Lake из прошлой лабораторной работы, а Q-Learning реализуем в новом окружении Mountain Car (там пространство состояний непрерывно - посмотрим, что делать в этом случае)."
      ],
      "metadata": {
        "id": "_MiLPAsXjrYK"
      }
    },
    {
      "cell_type": "markdown",
      "source": [
        "### Важно!\n",
        "Мы используем версию gym 0.25.1. В случае установки из pip более свежей версии возможны изменения в вызовах методов библиотеки. Актуально для тех, кто работает в PyCharm.\n",
        "\n",
        "Установка зависимостей для визуализации окружений в Google Colab"
      ],
      "metadata": {
        "id": "VA0Di7GvOmNF"
      }
    },
    {
      "cell_type": "code",
      "source": [
        "!apt-get install -y xvfb python-opengl\n",
        "!pip install gym pyvirtualdisplay\n",
        "!pip install pygame"
      ],
      "metadata": {
        "id": "9-4prpK2NoMG",
        "colab": {
          "base_uri": "https://localhost:8080/"
        },
        "outputId": "dfbbe031-8c9c-49fa-c1a7-6dc1fd439935"
      },
      "execution_count": null,
      "outputs": [
        {
          "output_type": "stream",
          "name": "stdout",
          "text": [
            "Reading package lists... Done\n",
            "Building dependency tree       \n",
            "Reading state information... Done\n",
            "The following package was automatically installed and is no longer required:\n",
            "  libnvidia-common-460\n",
            "Use 'apt autoremove' to remove it.\n",
            "The following additional packages will be installed:\n",
            "  freeglut3\n",
            "Suggested packages:\n",
            "  libgle3\n",
            "The following NEW packages will be installed:\n",
            "  freeglut3 python-opengl xvfb\n",
            "0 upgraded, 3 newly installed, 0 to remove and 22 not upgraded.\n",
            "Need to get 1,355 kB of archives.\n",
            "After this operation, 8,005 kB of additional disk space will be used.\n",
            "Get:1 http://archive.ubuntu.com/ubuntu bionic/universe amd64 freeglut3 amd64 2.8.1-3 [73.6 kB]\n",
            "Get:2 http://archive.ubuntu.com/ubuntu bionic/universe amd64 python-opengl all 3.1.0+dfsg-1 [496 kB]\n",
            "Get:3 http://archive.ubuntu.com/ubuntu bionic-updates/universe amd64 xvfb amd64 2:1.19.6-1ubuntu4.11 [785 kB]\n",
            "Fetched 1,355 kB in 0s (8,781 kB/s)\n",
            "Selecting previously unselected package freeglut3:amd64.\n",
            "(Reading database ... 123941 files and directories currently installed.)\n",
            "Preparing to unpack .../freeglut3_2.8.1-3_amd64.deb ...\n",
            "Unpacking freeglut3:amd64 (2.8.1-3) ...\n",
            "Selecting previously unselected package python-opengl.\n",
            "Preparing to unpack .../python-opengl_3.1.0+dfsg-1_all.deb ...\n",
            "Unpacking python-opengl (3.1.0+dfsg-1) ...\n",
            "Selecting previously unselected package xvfb.\n",
            "Preparing to unpack .../xvfb_2%3a1.19.6-1ubuntu4.11_amd64.deb ...\n",
            "Unpacking xvfb (2:1.19.6-1ubuntu4.11) ...\n",
            "Setting up freeglut3:amd64 (2.8.1-3) ...\n",
            "Setting up python-opengl (3.1.0+dfsg-1) ...\n",
            "Setting up xvfb (2:1.19.6-1ubuntu4.11) ...\n",
            "Processing triggers for man-db (2.8.3-2ubuntu0.1) ...\n",
            "Processing triggers for libc-bin (2.27-3ubuntu1.6) ...\n",
            "Looking in indexes: https://pypi.org/simple, https://us-python.pkg.dev/colab-wheels/public/simple/\n",
            "Requirement already satisfied: gym in /usr/local/lib/python3.7/dist-packages (0.25.2)\n",
            "Collecting pyvirtualdisplay\n",
            "  Downloading PyVirtualDisplay-3.0-py3-none-any.whl (15 kB)\n",
            "Requirement already satisfied: gym-notices>=0.0.4 in /usr/local/lib/python3.7/dist-packages (from gym) (0.0.8)\n",
            "Requirement already satisfied: cloudpickle>=1.2.0 in /usr/local/lib/python3.7/dist-packages (from gym) (1.5.0)\n",
            "Requirement already satisfied: importlib-metadata>=4.8.0 in /usr/local/lib/python3.7/dist-packages (from gym) (4.13.0)\n",
            "Requirement already satisfied: numpy>=1.18.0 in /usr/local/lib/python3.7/dist-packages (from gym) (1.21.6)\n",
            "Requirement already satisfied: typing-extensions>=3.6.4 in /usr/local/lib/python3.7/dist-packages (from importlib-metadata>=4.8.0->gym) (4.1.1)\n",
            "Requirement already satisfied: zipp>=0.5 in /usr/local/lib/python3.7/dist-packages (from importlib-metadata>=4.8.0->gym) (3.9.0)\n",
            "Installing collected packages: pyvirtualdisplay\n",
            "Successfully installed pyvirtualdisplay-3.0\n",
            "Looking in indexes: https://pypi.org/simple, https://us-python.pkg.dev/colab-wheels/public/simple/\n",
            "Collecting pygame\n",
            "  Downloading pygame-2.1.2-cp37-cp37m-manylinux_2_17_x86_64.manylinux2014_x86_64.whl (21.8 MB)\n",
            "\u001b[K     |████████████████████████████████| 21.8 MB 72.6 MB/s \n",
            "\u001b[?25hInstalling collected packages: pygame\n",
            "Successfully installed pygame-2.1.2\n"
          ]
        }
      ]
    },
    {
      "cell_type": "markdown",
      "source": [
        "Импортируем библиотеку OpenAI Gym и зависимость для работы с дисплеем"
      ],
      "metadata": {
        "id": "aBoZifxYQ7Pk"
      }
    },
    {
      "cell_type": "code",
      "source": [
        "from IPython import display as ipythondisplay\n",
        "import gym\n",
        "import matplotlib.pyplot as plt\n",
        "import numpy as np"
      ],
      "metadata": {
        "id": "llN94UNLNQPu"
      },
      "execution_count": null,
      "outputs": []
    },
    {
      "cell_type": "markdown",
      "source": [
        "Настраиваем виртуальный дисплей (будем его позже использовать для визуализации окружений)"
      ],
      "metadata": {
        "id": "rCHGJHjditpl"
      }
    },
    {
      "cell_type": "code",
      "source": [
        "from pyvirtualdisplay import Display\n",
        "display = Display(visible=0, size=(400, 300))\n",
        "display.start()"
      ],
      "metadata": {
        "id": "DQJgVewRisWV",
        "colab": {
          "base_uri": "https://localhost:8080/"
        },
        "outputId": "3ef7d523-6a74-4537-8553-87ba8be15480"
      },
      "execution_count": null,
      "outputs": [
        {
          "output_type": "execute_result",
          "data": {
            "text/plain": [
              "<pyvirtualdisplay.display.Display at 0x7f5693241c90>"
            ]
          },
          "metadata": {},
          "execution_count": 3
        }
      ]
    },
    {
      "cell_type": "markdown",
      "source": [
        "Определяем функцию, которую будем использовать для визуализации текущего состояния окружения"
      ],
      "metadata": {
        "id": "7JsjHZoEjiHs"
      }
    },
    {
      "cell_type": "code",
      "source": [
        "def visualize(env):\n",
        "  screen = env.render(mode='rgb_array')\n",
        "  plt.imshow(screen)\n",
        "  ipythondisplay.clear_output(wait=True)\n",
        "  ipythondisplay.display(plt.gcf())"
      ],
      "metadata": {
        "id": "3yU60768jo8k"
      },
      "execution_count": null,
      "outputs": []
    },
    {
      "cell_type": "markdown",
      "source": [
        "## Знакомство с окружением"
      ],
      "metadata": {
        "id": "zJzKjHsgr1Y4"
      }
    },
    {
      "cell_type": "code",
      "source": [
        "from gym.envs.toy_text.frozen_lake import generate_random_map\n",
        "\n",
        "env = gym.make('FrozenLake-v1', desc=generate_random_map(size=5), is_slippery=False)\n",
        "print(f\"Пространство наблюдений: {env.observation_space}\")\n",
        "print(f\"Пространство действий: {env.action_space}\")"
      ],
      "metadata": {
        "id": "GzxNbk-Tr3hP",
        "colab": {
          "base_uri": "https://localhost:8080/"
        },
        "outputId": "0cae2cdd-c925-4b4c-ef02-eaae5568b477"
      },
      "execution_count": null,
      "outputs": [
        {
          "output_type": "stream",
          "name": "stdout",
          "text": [
            "Пространство наблюдений: Discrete(25)\n",
            "Пространство действий: Discrete(4)\n"
          ]
        },
        {
          "output_type": "stream",
          "name": "stderr",
          "text": [
            "/usr/local/lib/python3.7/dist-packages/gym/core.py:318: DeprecationWarning: \u001b[33mWARN: Initializing wrapper in old step API which returns one bool instead of two. It is recommended to set `new_step_api=True` to use new step API. This will be the default behaviour in future.\u001b[0m\n",
            "  \"Initializing wrapper in old step API which returns one bool instead of two. It is recommended to set `new_step_api=True` to use new step API. This will be the default behaviour in future.\"\n",
            "/usr/local/lib/python3.7/dist-packages/gym/wrappers/step_api_compatibility.py:40: DeprecationWarning: \u001b[33mWARN: Initializing environment in old step API which returns one bool instead of two. It is recommended to set `new_step_api=True` to use new step API. This will be the default behaviour in future.\u001b[0m\n",
            "  \"Initializing environment in old step API which returns one bool instead of two. It is recommended to set `new_step_api=True` to use new step API. This will be the default behaviour in future.\"\n"
          ]
        }
      ]
    },
    {
      "cell_type": "code",
      "source": [
        "env.reset()\n",
        "visualize(env)"
      ],
      "metadata": {
        "id": "mOtEhkAxtT9X",
        "colab": {
          "base_uri": "https://localhost:8080/",
          "height": 521
        },
        "outputId": "0808874f-7e7f-4bba-d379-ef49b340cced"
      },
      "execution_count": null,
      "outputs": [
        {
          "output_type": "display_data",
          "data": {
            "text/plain": [
              "<Figure size 432x288 with 1 Axes>"
            ],
            "image/png": "[encoded data removed]"
          },
          "metadata": {}
        },
        {
          "output_type": "display_data",
          "data": {
            "text/plain": [
              "<Figure size 432x288 with 1 Axes>"
            ],
            "image/png": "[encoded data removed]"
          },
          "metadata": {
            "needs_background": "light"
          }
        }
      ]
    },
    {
      "cell_type": "markdown",
      "source": [
        "## SARSA"
      ],
      "metadata": {
        "id": "WnxCZpti0LEF"
      }
    },
    {
      "cell_type": "markdown",
      "source": [
        "Инициализируем гиперпараметры"
      ],
      "metadata": {
        "id": "R_pG2Sh0kYS6"
      }
    },
    {
      "cell_type": "code",
      "source": [
        "epsilon = 0.95 # тот самый эпсилон - вероятность, что будем выбирать действие случайным образом\n",
        "n_games = 10000 # количество игр (эпизодов)\n",
        "alpha = 0.2 # скорость обучения\n",
        "gamma = 0.9 # коэффициент дисконтирования\n",
        "epsilon_decay = 0.0001 # величина, на которую мы на каждом шаге будем уменьшать эпсилон\n",
        "min_epsilon = 0.01 # минимальный эпсилон (при достижении этого значения мы не будем уменьшать)"
      ],
      "metadata": {
        "id": "3Mr2c-CVByHB"
      },
      "execution_count": null,
      "outputs": []
    },
    {
      "cell_type": "markdown",
      "source": [
        "Теперь создадим матрицу Q из нулей"
      ],
      "metadata": {
        "id": "lQMBCUHGlAyB"
      }
    },
    {
      "cell_type": "code",
      "source": [
        "Q = np.zeros((env.observation_space.n, env.action_space.n))# создайте матрицу Q из нулей (размеры - количество состояний на количество действий)"
      ],
      "metadata": {
        "id": "FjlsivdolGlw"
      },
      "execution_count": null,
      "outputs": []
    },
    {
      "cell_type": "markdown",
      "source": [
        "Можем начинать обучение"
      ],
      "metadata": {
        "id": "CVQ091TMlNoR"
      }
    },
    {
      "cell_type": "code",
      "source": [
        "for game in range(n_games):\n",
        "  t = 0\n",
        "  current_state = env.reset()\n",
        "  if np.random.uniform(0, 1) < epsilon:\n",
        "    current_action = env.action_space.sample()  # выберите случайное действие\n",
        "  else:\n",
        "    current_action = np.argmax(Q[current_state])  # возьмите действие с максимальным значением полезности\n",
        "      \n",
        "  while True: \n",
        "    next_state, reward, done, info = env.step(current_action) # выполните текущее действие\n",
        "  \n",
        "    next_action = env.action_space.sample() if np.random.uniform(0, 1) < epsilon else np.argmax(Q[next_state])  # выберите следующее действие (в следующем состоянии) аналогично тому, как выбирали текущее действие в текущем состоянии (epsilon-жадная стратегия)\n",
        "          \n",
        "    Q[current_state, current_action] = Q[current_state, current_action] + alpha * (reward + gamma * Q[next_state, next_action] - Q[current_state, current_action])  # обновите значение полезности по формуле SARSA\n",
        "  \n",
        "    current_state = next_state\n",
        "    current_action = next_action\n",
        "          \n",
        "    if done:\n",
        "      break\n",
        "  # уменьшите эпсилон либо оставьте его, если он уже минимальный\n",
        "  if epsilon > min_epsilon: epsilon = epsilon - epsilon_decay"
      ],
      "metadata": {
        "id": "DdigZjbmDnWg"
      },
      "execution_count": null,
      "outputs": []
    },
    {
      "cell_type": "markdown",
      "source": [
        "Посмотрим, какая получилась матрица Q"
      ],
      "metadata": {
        "id": "bXorgpcSm86g"
      }
    },
    {
      "cell_type": "code",
      "source": [
        "Q"
      ],
      "metadata": {
        "id": "sPUkpFAon8CW",
        "colab": {
          "base_uri": "https://localhost:8080/"
        },
        "outputId": "e537b7f5-3536-4c9d-e8eb-9c0d2f5fc707"
      },
      "execution_count": null,
      "outputs": [
        {
          "output_type": "execute_result",
          "data": {
            "text/plain": [
              "array([[0.41398343, 0.47467165, 0.44511889, 0.40964377],\n",
              "       [0.35102815, 0.51524346, 0.        , 0.34682367],\n",
              "       [0.        , 0.        , 0.        , 0.        ],\n",
              "       [0.        , 0.32427458, 0.08702122, 0.15259355],\n",
              "       [0.08821955, 0.16179195, 0.07672248, 0.07742243],\n",
              "       [0.45542462, 0.49572115, 0.52169223, 0.39599324],\n",
              "       [0.43540823, 0.56936905, 0.53896128, 0.4251572 ],\n",
              "       [0.41285149, 0.64928732, 0.51090784, 0.        ],\n",
              "       [0.40427712, 0.68034612, 0.30449709, 0.13801722],\n",
              "       [0.47296612, 0.12849327, 0.25353239, 0.09164716],\n",
              "       [0.49164332, 0.39974221, 0.57369365, 0.41520227],\n",
              "       [0.47771606, 0.61039284, 0.62492782, 0.49726571],\n",
              "       [0.53535736, 0.7013068 , 0.66648268, 0.57207271],\n",
              "       [0.5667315 , 0.80915524, 0.53570778, 0.5031352 ],\n",
              "       [0.68193829, 0.        , 0.29680727, 0.2439174 ],\n",
              "       [0.29408969, 0.        , 0.39622877, 0.47867432],\n",
              "       [0.38402068, 0.        , 0.70596259, 0.50146521],\n",
              "       [0.62201746, 0.79881158, 0.648     , 0.60654532],\n",
              "       [0.69234935, 0.9       , 0.        , 0.6923147 ],\n",
              "       [0.        , 0.        , 0.        , 0.        ],\n",
              "       [0.        , 0.        , 0.        , 0.        ],\n",
              "       [0.        , 0.        , 0.        , 0.        ],\n",
              "       [0.        , 0.80146981, 0.89999995, 0.67032582],\n",
              "       [0.79747549, 0.89943521, 1.        , 0.76411305],\n",
              "       [0.        , 0.        , 0.        , 0.        ]])"
            ]
          },
          "metadata": {},
          "execution_count": 10
        }
      ]
    },
    {
      "cell_type": "markdown",
      "source": [
        "Посмотрим, как наш агент научился искать путь к правому нижнему углу"
      ],
      "metadata": {
        "id": "z920UeUtn62v"
      }
    },
    {
      "cell_type": "code",
      "source": [
        "sum_rewards = 0\n",
        "state = env.reset()\n",
        "print(\"Новая игра\")\n",
        "while True:\n",
        "  action = np.argmax(Q[state])\n",
        "  next_state, reward, done, info = env.step(action)\n",
        "  state = next_state\n",
        "  print(state)\n",
        "  sum_rewards += reward\n",
        "  if done:\n",
        "    break"
      ],
      "metadata": {
        "id": "2f3EqbVum7k4",
        "colab": {
          "base_uri": "https://localhost:8080/"
        },
        "outputId": "ea634688-3e5a-4347-ef60-85f07bef4cdd"
      },
      "execution_count": null,
      "outputs": [
        {
          "output_type": "stream",
          "name": "stdout",
          "text": [
            "Новая игра\n",
            "5\n",
            "6\n",
            "11\n",
            "12\n",
            "17\n",
            "22\n",
            "23\n",
            "24\n"
          ]
        }
      ]
    },
    {
      "cell_type": "markdown",
      "source": [
        "Видим, что обучение прошло успешно! Вы можете убедиться в этом, проанализировав действия агента в окружении (напоминаю про документацию к данному окружению: https://www.gymlibrary.dev/environments/toy_text/frozen_lake/)"
      ],
      "metadata": {
        "id": "M6zl8WGtBpk_"
      }
    },
    {
      "cell_type": "markdown",
      "source": [
        "## Q-Learning и непрерывное пространство наблюдений"
      ],
      "metadata": {
        "id": "bx5yDcerB6iv"
      }
    },
    {
      "cell_type": "markdown",
      "source": [
        "Теперь займемся Q-Learning, но попробуем решить другое окружение - MountainCar (https://www.gymlibrary.dev/environments/classic_control/mountain_car/)"
      ],
      "metadata": {
        "id": "9uOlcNbSCACv"
      }
    },
    {
      "cell_type": "code",
      "source": [
        "env = gym.make('MountainCar-v0')\n",
        "env._max_episode_steps = 1000\n",
        "env.reset()\n",
        "visualize(env)"
      ],
      "metadata": {
        "id": "-dRthSqPCHH-",
        "colab": {
          "base_uri": "https://localhost:8080/",
          "height": 521
        },
        "outputId": "46b47c4d-7546-486d-efc3-1c91eee7cb46"
      },
      "execution_count": null,
      "outputs": [
        {
          "output_type": "display_data",
          "data": {
            "text/plain": [
              "<Figure size 432x288 with 1 Axes>"
            ],
            "image/png": "[encoded data removed]"
          },
          "metadata": {}
        },
        {
          "output_type": "display_data",
          "data": {
            "text/plain": [
              "<Figure size 432x288 with 1 Axes>"
            ],
            "image/png": "[encoded data removed]"
          },
          "metadata": {
            "needs_background": "light"
          }
        }
      ]
    },
    {
      "cell_type": "code",
      "source": [
        "env.observation_space"
      ],
      "metadata": {
        "id": "UJBHsMnRCTpf",
        "colab": {
          "base_uri": "https://localhost:8080/"
        },
        "outputId": "d6e51226-188f-4b45-99aa-4b7d1964c2e6"
      },
      "execution_count": null,
      "outputs": [
        {
          "output_type": "execute_result",
          "data": {
            "text/plain": [
              "Box([-1.2  -0.07], [0.6  0.07], (2,), float32)"
            ]
          },
          "metadata": {},
          "execution_count": 13
        }
      ]
    },
    {
      "cell_type": "markdown",
      "source": [
        "Посмотрим, как выглядит начальное состояние"
      ],
      "metadata": {
        "id": "kcvOjQEXC2CO"
      }
    },
    {
      "cell_type": "code",
      "source": [
        "env.reset()"
      ],
      "metadata": {
        "id": "lFl5zyjkCqsW",
        "colab": {
          "base_uri": "https://localhost:8080/"
        },
        "outputId": "13c4426b-fd64-44b7-b385-b51d96dd84c2"
      },
      "execution_count": null,
      "outputs": [
        {
          "output_type": "execute_result",
          "data": {
            "text/plain": [
              "array([-0.518158,  0.      ], dtype=float32)"
            ]
          },
          "metadata": {},
          "execution_count": 14
        }
      ]
    },
    {
      "cell_type": "code",
      "source": [
        "env.action_space"
      ],
      "metadata": {
        "id": "8O3lyW8PCW-W",
        "colab": {
          "base_uri": "https://localhost:8080/"
        },
        "outputId": "9d7dbdf4-abb6-402f-ad8a-5227cd75bece"
      },
      "execution_count": null,
      "outputs": [
        {
          "output_type": "execute_result",
          "data": {
            "text/plain": [
              "Discrete(3)"
            ]
          },
          "metadata": {},
          "execution_count": 15
        }
      ]
    },
    {
      "cell_type": "markdown",
      "source": [
        "Действия у нас 3: 0 - ускориться влево, 1 - ничего не делать (поддаться физике), 2 - ускориться вправо"
      ],
      "metadata": {
        "id": "EI1lAy8wGNm3"
      }
    },
    {
      "cell_type": "markdown",
      "source": [
        "Мы видим, что у данного окружения состояние задается вектором, элементами которого являются [координата x, скорость]. Не обращайте внимание на числа на рисунке - окружение живет своей жизнью, и там изначально машинка стоит в случайной начальной координате"
      ],
      "metadata": {
        "id": "1k34HhKCCZ5O"
      }
    },
    {
      "cell_type": "markdown",
      "source": [
        "Давайте дискретизируем непрерывные величины с помощью np.linspace"
      ],
      "metadata": {
        "id": "rxNhLSHAERB1"
      }
    },
    {
      "cell_type": "code",
      "source": [
        "pos_len = 100; vel_len = 100;\n",
        "\n",
        "position_space_discrete = np.linspace(-1.2, 0.6, 100)  # поделите отрезок (-1.2, 0.6) на столько частей, сколько хотите\n",
        "velocity_space_discrete = np.linspace(-0.07, 0.07, 100)  # поделите отрезок (-0.07, 0.07) на столько частей, сколько хотите"
      ],
      "metadata": {
        "id": "01Kx9_uHEObF"
      },
      "execution_count": null,
      "outputs": []
    },
    {
      "cell_type": "code",
      "source": [
        "position_space_discrete"
      ],
      "metadata": {
        "id": "TaMcszeREaHd",
        "colab": {
          "base_uri": "https://localhost:8080/"
        },
        "outputId": "dc71285e-0f1a-4bb9-f13f-b37ff1531515"
      },
      "execution_count": null,
      "outputs": [
        {
          "output_type": "execute_result",
          "data": {
            "text/plain": [
              "array([-1.2       , -1.18181818, -1.16363636, -1.14545455, -1.12727273,\n",
              "       -1.10909091, -1.09090909, -1.07272727, -1.05454545, -1.03636364,\n",
              "       -1.01818182, -1.        , -0.98181818, -0.96363636, -0.94545455,\n",
              "       -0.92727273, -0.90909091, -0.89090909, -0.87272727, -0.85454545,\n",
              "       -0.83636364, -0.81818182, -0.8       , -0.78181818, -0.76363636,\n",
              "       -0.74545455, -0.72727273, -0.70909091, -0.69090909, -0.67272727,\n",
              "       -0.65454545, -0.63636364, -0.61818182, -0.6       , -0.58181818,\n",
              "       -0.56363636, -0.54545455, -0.52727273, -0.50909091, -0.49090909,\n",
              "       -0.47272727, -0.45454545, -0.43636364, -0.41818182, -0.4       ,\n",
              "       -0.38181818, -0.36363636, -0.34545455, -0.32727273, -0.30909091,\n",
              "       -0.29090909, -0.27272727, -0.25454545, -0.23636364, -0.21818182,\n",
              "       -0.2       , -0.18181818, -0.16363636, -0.14545455, -0.12727273,\n",
              "       -0.10909091, -0.09090909, -0.07272727, -0.05454545, -0.03636364,\n",
              "       -0.01818182,  0.        ,  0.01818182,  0.03636364,  0.05454545,\n",
              "        0.07272727,  0.09090909,  0.10909091,  0.12727273,  0.14545455,\n",
              "        0.16363636,  0.18181818,  0.2       ,  0.21818182,  0.23636364,\n",
              "        0.25454545,  0.27272727,  0.29090909,  0.30909091,  0.32727273,\n",
              "        0.34545455,  0.36363636,  0.38181818,  0.4       ,  0.41818182,\n",
              "        0.43636364,  0.45454545,  0.47272727,  0.49090909,  0.50909091,\n",
              "        0.52727273,  0.54545455,  0.56363636,  0.58181818,  0.6       ])"
            ]
          },
          "metadata": {},
          "execution_count": 17
        }
      ]
    },
    {
      "cell_type": "code",
      "source": [
        "velocity_space_discrete"
      ],
      "metadata": {
        "colab": {
          "base_uri": "https://localhost:8080/"
        },
        "id": "doO6JCJA1GNJ",
        "outputId": "4f33be7b-e2ba-40b7-bd5d-3b499bfa81c7"
      },
      "execution_count": null,
      "outputs": [
        {
          "output_type": "execute_result",
          "data": {
            "text/plain": [
              "array([-0.07      , -0.06858586, -0.06717172, -0.06575758, -0.06434343,\n",
              "       -0.06292929, -0.06151515, -0.06010101, -0.05868687, -0.05727273,\n",
              "       -0.05585859, -0.05444444, -0.0530303 , -0.05161616, -0.05020202,\n",
              "       -0.04878788, -0.04737374, -0.0459596 , -0.04454545, -0.04313131,\n",
              "       -0.04171717, -0.04030303, -0.03888889, -0.03747475, -0.03606061,\n",
              "       -0.03464646, -0.03323232, -0.03181818, -0.03040404, -0.0289899 ,\n",
              "       -0.02757576, -0.02616162, -0.02474747, -0.02333333, -0.02191919,\n",
              "       -0.02050505, -0.01909091, -0.01767677, -0.01626263, -0.01484848,\n",
              "       -0.01343434, -0.0120202 , -0.01060606, -0.00919192, -0.00777778,\n",
              "       -0.00636364, -0.00494949, -0.00353535, -0.00212121, -0.00070707,\n",
              "        0.00070707,  0.00212121,  0.00353535,  0.00494949,  0.00636364,\n",
              "        0.00777778,  0.00919192,  0.01060606,  0.0120202 ,  0.01343434,\n",
              "        0.01484848,  0.01626263,  0.01767677,  0.01909091,  0.02050505,\n",
              "        0.02191919,  0.02333333,  0.02474747,  0.02616162,  0.02757576,\n",
              "        0.0289899 ,  0.03040404,  0.03181818,  0.03323232,  0.03464646,\n",
              "        0.03606061,  0.03747475,  0.03888889,  0.04030303,  0.04171717,\n",
              "        0.04313131,  0.04454545,  0.0459596 ,  0.04737374,  0.04878788,\n",
              "        0.05020202,  0.05161616,  0.0530303 ,  0.05444444,  0.05585859,\n",
              "        0.05727273,  0.05868687,  0.06010101,  0.06151515,  0.06292929,\n",
              "        0.06434343,  0.06575758,  0.06717172,  0.06858586,  0.07      ])"
            ]
          },
          "metadata": {},
          "execution_count": 18
        }
      ]
    },
    {
      "cell_type": "markdown",
      "source": [
        "Воспользуемся методом digitize из numpy, чтобы по непрерывному значению предсказывать \"ячейку\", куда попало число"
      ],
      "metadata": {
        "id": "wU0FzCbbFDQE"
      }
    },
    {
      "cell_type": "code",
      "source": [
        "np.digitize(-1.000346, position_space_discrete)"
      ],
      "metadata": {
        "id": "u85GxUIVEvhc",
        "colab": {
          "base_uri": "https://localhost:8080/"
        },
        "outputId": "385dc62b-cc32-41a9-83cc-bad10b57ed53"
      },
      "execution_count": null,
      "outputs": [
        {
          "output_type": "execute_result",
          "data": {
            "text/plain": [
              "11"
            ]
          },
          "metadata": {},
          "execution_count": 19
        }
      ]
    },
    {
      "cell_type": "markdown",
      "source": [
        "Аналогично мы можем делать и для скорости машинки. А это значит, что мы можем полностью перейти к дискретному пространству состояний"
      ],
      "metadata": {
        "id": "H2XFvs2AFBDk"
      }
    },
    {
      "cell_type": "code",
      "source": [
        "actions = [0, 1, 2]\n",
        "states = []\n",
        "for position in range(pos_len):\n",
        "  for velocity in range(vel_len):\n",
        "    states.append((position, velocity))"
      ],
      "metadata": {
        "id": "FZdNX7JwFoii"
      },
      "execution_count": null,
      "outputs": []
    },
    {
      "cell_type": "code",
      "source": [
        "Q = {state: [0 for _ in actions] for state in states}\n",
        "# заполните нулями значения словаря"
      ],
      "metadata": {
        "id": "Ddk-d1lHGbkz"
      },
      "execution_count": null,
      "outputs": []
    },
    {
      "cell_type": "code",
      "source": [
        "Q"
      ],
      "metadata": {
        "id": "uzmQhLepfsXG"
      },
      "execution_count": null,
      "outputs": []
    },
    {
      "cell_type": "markdown",
      "source": [
        "Получили функцию Q в виде словаря. Теперь можно приступить к обучению. Параметры те же самые"
      ],
      "metadata": {
        "id": "h6_1HH6cFVHb"
      }
    },
    {
      "cell_type": "code",
      "source": [
        "n_games = 3000 # количество игр (эпизодов)\n",
        "epsilon = 1 # тот самый эпсилон - вероятность, что будем выбирать действие случайным образом\n",
        "alpha = 0.1 # скорость обучения\n",
        "gamma = 0.9 # коэффициент дисконтирования\n",
        "epsilon_decay = 2 / n_games # величина, на которую мы на каждом шаге будем уменьшать эпсилон\n",
        "min_epsilon = 0.01 # минимальный эпсилон (при достижении этого значения мы не будем уменьшать)"
      ],
      "metadata": {
        "id": "pzMJZQ_VG9tL"
      },
      "execution_count": null,
      "outputs": []
    },
    {
      "cell_type": "markdown",
      "source": [
        "Напишем вспомогательные функции"
      ],
      "metadata": {
        "id": "3YwQTQ6dIn6C"
      }
    },
    {
      "cell_type": "code",
      "source": [
        "def to_discrete(state):\n",
        "  # с помощью digitize сформируйте кортеж из двух элементов (это ячейки, куда попала позиция и скорость)\n",
        "  # верните этот кортеж из функции\n",
        "  return np.digitize(state[0], position_space_discrete), np.digitize(state[1], velocity_space_discrete)"
      ],
      "metadata": {
        "id": "j4SjwlOYHxny"
      },
      "execution_count": null,
      "outputs": []
    },
    {
      "cell_type": "code",
      "source": [
        "def get_action_with_max_q(state):\n",
        "  # верните из функции действие (число) с максимальной полезностью в данном состоянии\n",
        "  return np.argmax(Q[state])"
      ],
      "metadata": {
        "id": "VWpKUjKIIaUx"
      },
      "execution_count": null,
      "outputs": []
    },
    {
      "cell_type": "code",
      "source": [
        "sum_reward = 0\n",
        "\n",
        "for game in range(n_games):\n",
        "  t = 0\n",
        "  # current_state = to_discrete(env.reset()) # ошибка?????? тут не должно быть to_discrete иначе дальеш падает всё\n",
        "  current_state = env.reset()\n",
        "  if game % 100 == 0 and game > 0:\n",
        "            print('Игра: ', game, 'Награда за игру: ', sum_reward, 'Эпсилон %.3f' % epsilon)\n",
        "\n",
        "  sum_reward = 0\n",
        "  while True: \n",
        "    current_state_discrete = to_discrete(current_state)  # дискретизируйте состояние\n",
        "    if np.random.uniform(0, 1) < epsilon:\n",
        "      current_action = env.action_space.sample()\n",
        "    else:\n",
        "      current_action = np.argmax(Q[current_state_discrete])\n",
        "\n",
        "    next_state, reward, done, info = env.step(current_action)\n",
        "    next_state_discrete = to_discrete(next_state) # дискретизируйте состояние\n",
        "    # next_action = env.action_space.sample() if np.random.uniform(0, 1) < epsilon else np.argmax(Q[next_state_discrete])  # выберите действие с максимальной полезностью (вспомните вашу функцию)\n",
        "    next_action = get_action_with_max_q(next_state_discrete)\n",
        "\n",
        "    Q[current_state_discrete][current_action] = Q[current_state_discrete][current_action] + alpha * (reward + gamma * Q[next_state_discrete][next_action] - Q[current_state_discrete][current_action])  # обновите значение полезности\n",
        "    \n",
        "    current_state = next_state\n",
        "    current_action = next_action\n",
        "    sum_reward += reward\n",
        "\n",
        "    if done:\n",
        "      break\n",
        "  # уменьшите эпсилон, либо оставьте его, если он уже минимальный\n",
        "  if epsilon > min_epsilon: epsilon = epsilon - epsilon_decay"
      ],
      "metadata": {
        "id": "Pp5TDgKbHiNC",
        "colab": {
          "base_uri": "https://localhost:8080/"
        },
        "outputId": "c6a9e9cd-d6bf-491c-dda2-3dcba430ceb4"
      },
      "execution_count": null,
      "outputs": [
        {
          "output_type": "stream",
          "name": "stdout",
          "text": [
            "Игра:  100 Награда за игру:  -1000.0 Эпсилон 0.933\n",
            "Игра:  200 Награда за игру:  -1000.0 Эпсилон 0.867\n",
            "Игра:  300 Награда за игру:  -1000.0 Эпсилон 0.800\n",
            "Игра:  400 Награда за игру:  -1000.0 Эпсилон 0.733\n",
            "Игра:  500 Награда за игру:  -1000.0 Эпсилон 0.667\n",
            "Игра:  600 Награда за игру:  -1000.0 Эпсилон 0.600\n",
            "Игра:  700 Награда за игру:  -879.0 Эпсилон 0.533\n",
            "Игра:  800 Награда за игру:  -808.0 Эпсилон 0.467\n",
            "Игра:  900 Награда за игру:  -1000.0 Эпсилон 0.400\n",
            "Игра:  1000 Награда за игру:  -1000.0 Эпсилон 0.333\n",
            "Игра:  1100 Награда за игру:  -778.0 Эпсилон 0.267\n",
            "Игра:  1200 Награда за игру:  -914.0 Эпсилон 0.200\n",
            "Игра:  1300 Награда за игру:  -963.0 Эпсилон 0.133\n",
            "Игра:  1400 Награда за игру:  -321.0 Эпсилон 0.067\n",
            "Игра:  1500 Награда за игру:  -582.0 Эпсилон 0.010\n",
            "Игра:  1600 Награда за игру:  -695.0 Эпсилон 0.010\n",
            "Игра:  1700 Награда за игру:  -677.0 Эпсилон 0.010\n",
            "Игра:  1800 Награда за игру:  -672.0 Эпсилон 0.010\n",
            "Игра:  1900 Награда за игру:  -451.0 Эпсилон 0.010\n",
            "Игра:  2000 Награда за игру:  -1000.0 Эпсилон 0.010\n",
            "Игра:  2100 Награда за игру:  -434.0 Эпсилон 0.010\n",
            "Игра:  2200 Награда за игру:  -582.0 Эпсилон 0.010\n",
            "Игра:  2300 Награда за игру:  -377.0 Эпсилон 0.010\n",
            "Игра:  2400 Награда за игру:  -317.0 Эпсилон 0.010\n",
            "Игра:  2500 Награда за игру:  -541.0 Эпсилон 0.010\n",
            "Игра:  2600 Награда за игру:  -492.0 Эпсилон 0.010\n",
            "Игра:  2700 Награда за игру:  -474.0 Эпсилон 0.010\n",
            "Игра:  2800 Награда за игру:  -481.0 Эпсилон 0.010\n",
            "Игра:  2900 Награда за игру:  -450.0 Эпсилон 0.010\n"
          ]
        }
      ]
    },
    {
      "cell_type": "code",
      "source": [
        "rewards = []\n",
        "\n",
        "games_count = 100\n",
        "\n",
        "for _ in range(games_count):\n",
        "  sum_rewards = 0\n",
        "  state = env.reset()\n",
        "  # print(\"Новая игра\")\n",
        "  while True:\n",
        "    action = get_action_with_max_q(to_discrete(state))\n",
        "    next_state, reward, done, info = env.step(action)\n",
        "    state = next_state\n",
        "    sum_rewards += reward\n",
        "\n",
        "    if done:\n",
        "      rewards.append(sum_rewards)\n",
        "      \n",
        "      # print(sum_rewards)\n",
        "      break\n",
        "\n",
        "rewards = np.array(rewards) + 1000.0\n",
        "\n",
        "print(np.count_nonzero(rewards)/len(rewards))"
      ],
      "metadata": {
        "id": "PcaIqOgTRqFh",
        "colab": {
          "base_uri": "https://localhost:8080/"
        },
        "outputId": "f07bb59b-9143-41f9-de05-37540bc220ad"
      },
      "execution_count": null,
      "outputs": [
        {
          "output_type": "stream",
          "name": "stdout",
          "text": [
            "0.94\n"
          ]
        }
      ]
    },
    {
      "cell_type": "markdown",
      "source": [
        "---\n",
        "\n",
        "**Пояснение**: я не стал делать визуализацию для данной задачи. критерием успешного выполнения агентом задачи (то есть что агент заехал на гору) я выбрал суммарную награду: она должна быть больше чем -1000 (за каждый шаг в нетерминальное состояние награда даётся -1, лимит шагов 1000). далее я отыграл 100 игр и в 94 играх из 100 агент завершил работу с наградой больше чем -1000, то есть успешно выполнил свою задачу.\n",
        "\n",
        "---"
      ],
      "metadata": {
        "id": "Ynvds0X3psJQ"
      }
    },
    {
      "cell_type": "markdown",
      "source": [
        "В этом окружении мы получаем награду -1 за каждый шаг, пока машинка не на вершине горы. При этом игра завершается, если координата по x равна 0.45 (это вершина горы)."
      ],
      "metadata": {
        "id": "5raxdKLRHNTa"
      }
    },
    {
      "cell_type": "markdown",
      "source": [
        "Мы установили максимальное количество шагов 1000. Таким образом, если мы решаем задачу за менее чем 1000 шагов (то есть получаем награду >1000), это значит, что агент достиг своей цели."
      ],
      "metadata": {
        "id": "vQrsnofoHZcB"
      }
    },
    {
      "cell_type": "markdown",
      "source": [
        "Можно увидеть, что агент сформировал оптимальную матрицу Q. При этом, за счет случайной начальной координаты и скорости, агенту не всегда удается решить свою задачу."
      ],
      "metadata": {
        "id": "kYJ_ih6HGd8D"
      }
    },
    {
      "cell_type": "markdown",
      "source": [
        "Тем не менее, здесь есть большое количество параметров, которые можно подобрать, чтобы повысить качество обучения (начать стоит с параметров дискретизации - на сколько частей мы разбиваем отрезки)"
      ],
      "metadata": {
        "id": "ErUwRylOGpNr"
      }
    },
    {
      "cell_type": "markdown",
      "source": [
        "## Задания лабораторной работы"
      ],
      "metadata": {
        "id": "g6VWM8zJl_-y"
      }
    },
    {
      "cell_type": "markdown",
      "source": [
        "### Основные задания"
      ],
      "metadata": {
        "id": "fFUwXYjTnKbi"
      }
    },
    {
      "cell_type": "markdown",
      "source": [
        "1. Заполнить пропуски в ячейках, добиться рабочего кода для метода SARSA. <b> 3 балла </b>\n",
        "2. Заполнить пропуски в ячейках, добиться рабочего кода для метода Q-Learning. <b> 3 балла </b>\n",
        "<br /><br />\n",
        "Итого з лабораторную работу: 6 баллов."
      ],
      "metadata": {
        "id": "cDtPQ8RfmFeq"
      }
    },
    {
      "cell_type": "markdown",
      "source": [
        "### Замечания"
      ],
      "metadata": {
        "id": "bdriwReLnvN5"
      }
    },
    {
      "cell_type": "markdown",
      "source": [
        "1. Выполнять задания можно в Google Colab или локально в среде Jupiter Notebook. При выполнении задания локально не требуется настройка и установка зависимостей для виртуального дисплея (и использование кастомной функции visualize). При вызове метода env.render создастся окно с визуализацией."
      ],
      "metadata": {
        "id": "jynEW3SUnxoZ"
      }
    }
  ]
}