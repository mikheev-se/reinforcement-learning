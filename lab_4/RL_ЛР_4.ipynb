{
  "nbformat": 4,
  "nbformat_minor": 0,
  "metadata": {
    "colab": {
      "provenance": []
    },
    "kernelspec": {
      "name": "python3",
      "display_name": "Python 3"
    },
    "language_info": {
      "name": "python"
    },
    "gpuClass": "standard",
    "accelerator": "GPU"
  },
  "cells": [
    {
      "cell_type": "markdown",
      "source": [
        "# Лабораторная работа 4. Глубокое обучение с подкреплением. Deep Q-Network (DQN)\n"
      ],
      "metadata": {
        "id": "kmOHHlg6MzSP"
      }
    },
    {
      "cell_type": "markdown",
      "source": [
        "В прошлой лабораторной работе мы увидели процесс обучения агентов путем оптимизации функции полезности (Q). Этот подход гарантированно работает, а при правильном подборе параметров дает приемлимые результаты"
      ],
      "metadata": {
        "id": "o5TqD_5jrD0I"
      }
    },
    {
      "cell_type": "markdown",
      "source": [
        "Однако в реальных окружениях зачастую пространство состояний слишком большое, в результате чего табличный подход к представлению функции Q теряет свою актуальность. На помощь приходят глубокие нейронные сети, которые могут предсказывать значения полезности для каждого действия."
      ],
      "metadata": {
        "id": "yC_EMNqlMaSN"
      }
    },
    {
      "cell_type": "markdown",
      "source": [
        "### Важно!\n",
        "Мы используем версию gym 0.25.1. В случае установки из pip более свежей версии возможны изменения в вызовах методов библиотеки. Актуально для тех, кто работает в PyCharm.\n",
        "\n",
        "Установка зависимостей для визуализации окружений в Google Colab."
      ],
      "metadata": {
        "id": "VA0Di7GvOmNF"
      }
    },
    {
      "cell_type": "code",
      "source": [
        "!apt-get install -y xvfb python-opengl\n",
        "!pip install gym pyvirtualdisplay\n",
        "!pip install pygame"
      ],
      "metadata": {
        "id": "9-4prpK2NoMG",
        "colab": {
          "base_uri": "https://localhost:8080/"
        },
        "outputId": "99d538e9-1ed8-4a75-8f41-7e3741920ec6"
      },
      "execution_count": null,
      "outputs": [
        {
          "output_type": "stream",
          "name": "stdout",
          "text": [
            "Reading package lists... Done\n",
            "Building dependency tree       \n",
            "Reading state information... Done\n",
            "python-opengl is already the newest version (3.1.0+dfsg-1).\n",
            "xvfb is already the newest version (2:1.19.6-1ubuntu4.11).\n",
            "The following package was automatically installed and is no longer required:\n",
            "  libnvidia-common-460\n",
            "Use 'apt autoremove' to remove it.\n",
            "0 upgraded, 0 newly installed, 0 to remove and 4 not upgraded.\n",
            "Looking in indexes: https://pypi.org/simple, https://us-python.pkg.dev/colab-wheels/public/simple/\n",
            "Requirement already satisfied: gym in /usr/local/lib/python3.7/dist-packages (0.25.2)\n",
            "Requirement already satisfied: pyvirtualdisplay in /usr/local/lib/python3.7/dist-packages (3.0)\n",
            "Requirement already satisfied: cloudpickle>=1.2.0 in /usr/local/lib/python3.7/dist-packages (from gym) (1.5.0)\n",
            "Requirement already satisfied: importlib-metadata>=4.8.0 in /usr/local/lib/python3.7/dist-packages (from gym) (4.13.0)\n",
            "Requirement already satisfied: numpy>=1.18.0 in /usr/local/lib/python3.7/dist-packages (from gym) (1.21.6)\n",
            "Requirement already satisfied: gym-notices>=0.0.4 in /usr/local/lib/python3.7/dist-packages (from gym) (0.0.8)\n",
            "Requirement already satisfied: typing-extensions>=3.6.4 in /usr/local/lib/python3.7/dist-packages (from importlib-metadata>=4.8.0->gym) (4.1.1)\n",
            "Requirement already satisfied: zipp>=0.5 in /usr/local/lib/python3.7/dist-packages (from importlib-metadata>=4.8.0->gym) (3.10.0)\n",
            "Looking in indexes: https://pypi.org/simple, https://us-python.pkg.dev/colab-wheels/public/simple/\n",
            "Requirement already satisfied: pygame in /usr/local/lib/python3.7/dist-packages (2.1.2)\n"
          ]
        }
      ]
    },
    {
      "cell_type": "markdown",
      "source": [
        "Импортируем библиотеку OpenAI Gym и зависимость для работы с дисплеем"
      ],
      "metadata": {
        "id": "aBoZifxYQ7Pk"
      }
    },
    {
      "cell_type": "code",
      "source": [
        "from IPython import display as ipythondisplay\n",
        "import gym\n",
        "import matplotlib.pyplot as plt\n",
        "import numpy as np"
      ],
      "metadata": {
        "id": "llN94UNLNQPu"
      },
      "execution_count": null,
      "outputs": []
    },
    {
      "cell_type": "markdown",
      "source": [
        "Настраиваем виртуальный дисплей (будем его позже использовать для визуализации окружений)"
      ],
      "metadata": {
        "id": "rCHGJHjditpl"
      }
    },
    {
      "cell_type": "code",
      "source": [
        "from pyvirtualdisplay import Display\n",
        "display = Display(visible=0, size=(400, 300))\n",
        "display.start()"
      ],
      "metadata": {
        "id": "DQJgVewRisWV",
        "colab": {
          "base_uri": "https://localhost:8080/"
        },
        "outputId": "2a9911c6-030e-4da5-a1ad-51a4b6d71a4b"
      },
      "execution_count": null,
      "outputs": [
        {
          "output_type": "execute_result",
          "data": {
            "text/plain": [
              "<pyvirtualdisplay.display.Display at 0x7ff8b9fdc2d0>"
            ]
          },
          "metadata": {},
          "execution_count": 3
        }
      ]
    },
    {
      "cell_type": "markdown",
      "source": [
        "Определяем функцию, которую будем использовать для визуализации текущего состояния окружения"
      ],
      "metadata": {
        "id": "7JsjHZoEjiHs"
      }
    },
    {
      "cell_type": "code",
      "source": [
        "def visualize(env):\n",
        "  screen = env.render(mode='rgb_array')\n",
        "  plt.imshow(screen)\n",
        "  ipythondisplay.clear_output(wait=True)\n",
        "  ipythondisplay.display(plt.gcf())"
      ],
      "metadata": {
        "id": "3yU60768jo8k"
      },
      "execution_count": null,
      "outputs": []
    },
    {
      "cell_type": "markdown",
      "source": [
        "## Знакомство с окружением"
      ],
      "metadata": {
        "id": "zJzKjHsgr1Y4"
      }
    },
    {
      "cell_type": "markdown",
      "source": [
        "В этой работе мы решим окружение CartPole из первой лабораторной работы."
      ],
      "metadata": {
        "id": "Lm1SFzspN7TT"
      }
    },
    {
      "cell_type": "code",
      "source": [
        "env = gym.make('CartPole-v1')\n",
        "env.reset()\n",
        "visualize(env)"
      ],
      "metadata": {
        "id": "GzxNbk-Tr3hP",
        "colab": {
          "base_uri": "https://localhost:8080/",
          "height": 521
        },
        "outputId": "10b9690d-0bb2-48ed-eac5-555e3bdea991"
      },
      "execution_count": null,
      "outputs": [
        {
          "output_type": "display_data",
          "data": {
            "text/plain": [
              "<Figure size 432x288 with 1 Axes>"
            ],
            "image/png": "[encoded data removed]"
          },
          "metadata": {}
        },
        {
          "output_type": "display_data",
          "data": {
            "text/plain": [
              "<Figure size 432x288 with 1 Axes>"
            ],
            "image/png": "[encoded data removed]"
          },
          "metadata": {
            "needs_background": "light"
          }
        }
      ]
    },
    {
      "cell_type": "markdown",
      "source": [
        "## Построение нейронной сети"
      ],
      "metadata": {
        "id": "bj0KHBLuQWQx"
      }
    },
    {
      "cell_type": "code",
      "source": [
        "env.observation_space.shape"
      ],
      "metadata": {
        "id": "eJ-Xob14RQIg",
        "colab": {
          "base_uri": "https://localhost:8080/"
        },
        "outputId": "a4441d1e-98ad-4733-c3fc-c1078fc7f776"
      },
      "execution_count": null,
      "outputs": [
        {
          "output_type": "execute_result",
          "data": {
            "text/plain": [
              "(4,)"
            ]
          },
          "metadata": {},
          "execution_count": 6
        }
      ]
    },
    {
      "cell_type": "code",
      "source": [
        "env.action_space.n"
      ],
      "metadata": {
        "colab": {
          "base_uri": "https://localhost:8080/"
        },
        "id": "_zqhHWncJRYl",
        "outputId": "0f7ceba0-d59c-42ca-a67a-9766ccfa303f"
      },
      "execution_count": null,
      "outputs": [
        {
          "output_type": "execute_result",
          "data": {
            "text/plain": [
              "2"
            ]
          },
          "metadata": {},
          "execution_count": 7
        }
      ]
    },
    {
      "cell_type": "markdown",
      "source": [
        "Первым делом построим архитектуру сети. Количество нейронов на входном слое - очевидно размерность состояния. Количество нейронов на выходном слое - очевидно количество дейстий. Более никаких ограничений в архитектуре нет - количество скрытых слоев и их функции активации - по вашему усмотрению."
      ],
      "metadata": {
        "id": "OMJYOjqnQdoq"
      }
    },
    {
      "cell_type": "code",
      "source": [
        "from tensorflow import keras\n",
        "from tensorflow.keras import layers\n",
        "from tensorflow.keras.optimizers import Adam\n",
        "\n",
        "keras.backend.clear_session()\n",
        "\n",
        "model = keras.Sequential()\n",
        "model.add(keras.layers.Dense(128, input_shape=(env.observation_space.shape[0],), activation='relu'))\n",
        "model.add(keras.layers.Dense(128, activation=\"relu\"))\n",
        "model.add(keras.layers.Dense(128, activation=\"relu\"))\n",
        "model.add(keras.layers.Dense(128, activation=\"relu\"))\n",
        "model.add(keras.layers.Dense(128, activation=\"relu\"))\n",
        "model.add(keras.layers.Dense(128, activation=\"relu\"))\n",
        "model.add(keras.layers.Dense(env.action_space.n, activation='linear'))\n",
        "# model.add(keras.layers.Reshape((2,)))\n",
        "\n",
        "model.summary()\n",
        "# 11 000\n",
        "# постройте нейронную сеть, у которой количество входов будет соответствовать размерности пространства наблюдений (4),\n",
        "# а количество выходов будет соответствовать размерности пространства действий (2)\n",
        "# в конце выведите информацию о модели"
      ],
      "metadata": {
        "id": "Ns8ulU8NQZjB",
        "colab": {
          "base_uri": "https://localhost:8080/"
        },
        "outputId": "6d6d7be1-d6f6-4940-bb9c-9c98d222acc3"
      },
      "execution_count": null,
      "outputs": [
        {
          "output_type": "stream",
          "name": "stdout",
          "text": [
            "Model: \"sequential\"\n",
            "_________________________________________________________________\n",
            " Layer (type)                Output Shape              Param #   \n",
            "=================================================================\n",
            " dense (Dense)               (None, 128)               640       \n",
            "                                                                 \n",
            " dense_1 (Dense)             (None, 128)               16512     \n",
            "                                                                 \n",
            " dense_2 (Dense)             (None, 128)               16512     \n",
            "                                                                 \n",
            " dense_3 (Dense)             (None, 128)               16512     \n",
            "                                                                 \n",
            " dense_4 (Dense)             (None, 128)               16512     \n",
            "                                                                 \n",
            " dense_5 (Dense)             (None, 128)               16512     \n",
            "                                                                 \n",
            " dense_6 (Dense)             (None, 2)                 258       \n",
            "                                                                 \n",
            "=================================================================\n",
            "Total params: 83,458\n",
            "Trainable params: 83,458\n",
            "Non-trainable params: 0\n",
            "_________________________________________________________________\n"
          ]
        }
      ]
    },
    {
      "cell_type": "markdown",
      "source": [
        "Обратите внимание, что импорты у вас могут быть другими! Все зависит отверсий библиотек Tensorflow и Keras. В случае возникновений проблем с импортом, придется немного погуглить."
      ],
      "metadata": {
        "id": "nzfDnTPA5Q64"
      }
    },
    {
      "cell_type": "markdown",
      "source": [
        "Инициализируем гиперпараметры"
      ],
      "metadata": {
        "id": "rBTjxodFJkdO"
      }
    },
    {
      "cell_type": "code",
      "source": [
        "n_games = 300 # количество игр\n",
        "gamma = 0.9 # коэффициент дисконтирования\n",
        "epsilon = 1  # эпсилон (как в предыдущей ЛР)\n",
        "min_epsilon = 0.01 # минимальное значение эпсилон\n",
        "epsilon_decay = 0.99 # величина, в которую будем уменьшать эпсилон (в прошлой ЛР был подход с вычитанием)\n",
        "batch_size = 256 # размер пакета состояний, на котором будем обучать нейронку\n",
        "learning_rate = 0.01 # скорость обучения нейросети\n",
        "memory_size = 10000 # размер кратковременной памяти"
      ],
      "metadata": {
        "id": "QElWAsg9JiH9"
      },
      "execution_count": null,
      "outputs": []
    },
    {
      "cell_type": "code",
      "source": [
        "optimizer = keras.optimizers.Adam(learning_rate=learning_rate)\n",
        "\n",
        "model.compile(loss='mse', optimizer=optimizer)\n",
        "\n",
        "# скомпилируйте модель - выберите предпочитаемый оптимизатор (должен быть на базе sgd)\n",
        "# в качестве функции потерь допускается любая метрика для решения задачи регресии (нейросеть предсказывает показатели полезности)"
      ],
      "metadata": {
        "id": "GESyP8HuURjd"
      },
      "execution_count": null,
      "outputs": []
    },
    {
      "cell_type": "markdown",
      "source": [
        "## Реализация памяти"
      ],
      "metadata": {
        "id": "HqBmdIF2VPGN"
      }
    },
    {
      "cell_type": "markdown",
      "source": [
        "Метод DQN основан на использовании кратковременной памяти - наша сеть будет обучаться не на всех возможных парах (состояние, действие), а только на случайным образом выбраных batch_size из всей кратковременной памяти."
      ],
      "metadata": {
        "id": "tnM-z6whVTRc"
      }
    },
    {
      "cell_type": "markdown",
      "source": [
        "Кратковременная память в классическом варианте реализуется как двунаправленная очередь."
      ],
      "metadata": {
        "id": "I2XEPHhCVsbc"
      }
    },
    {
      "cell_type": "markdown",
      "source": [
        "За счет такой реализации на каждом шаге каждогго эпизода мы будем записывать в кратковременную память информацию, которая необходима будет для обучения нашей сети. После каждой законченной игры мы будем производить обучение."
      ],
      "metadata": {
        "id": "InxBs7rOJ85F"
      }
    },
    {
      "cell_type": "markdown",
      "source": [
        "Идея двунаправленной очереди - когда памть заполняется, первые вошедшие в нее элементы удаляются. Таким образом, выбирая случайным образом batch_size элементов из постоянно изменяющейся памяти мы будем обеспечивать обучение сети на различных данных."
      ],
      "metadata": {
        "id": "cWvlFOVCKVc9"
      }
    },
    {
      "cell_type": "code",
      "source": [
        "from collections import deque\n",
        "\n",
        "memory = deque(maxlen=memory_size) # создайте двустороннюю очередь с заданным размером memory_size"
      ],
      "metadata": {
        "id": "lMCK-fHqVzqk"
      },
      "execution_count": null,
      "outputs": []
    },
    {
      "cell_type": "code",
      "source": [
        "memory"
      ],
      "metadata": {
        "colab": {
          "base_uri": "https://localhost:8080/"
        },
        "id": "iQxxg6ODMoOx",
        "outputId": "1376d588-dedc-4815-d205-b225bb75b102"
      },
      "execution_count": null,
      "outputs": [
        {
          "output_type": "execute_result",
          "data": {
            "text/plain": [
              "deque([])"
            ]
          },
          "metadata": {},
          "execution_count": 31
        }
      ]
    },
    {
      "cell_type": "markdown",
      "source": [
        "Реализуем методы для работы с памятью"
      ],
      "metadata": {
        "id": "N5Cs2FUEVdYk"
      }
    },
    {
      "cell_type": "code",
      "source": [
        "def remember(state, action, reward, next_state, done):\n",
        "  # реализуйте добавление в память кортежа из переданных данных\n",
        "  memory.append((state, action, reward, next_state, done))"
      ],
      "metadata": {
        "id": "p0u1_D9UV9xL"
      },
      "execution_count": null,
      "outputs": []
    },
    {
      "cell_type": "code",
      "source": [
        "test_deque = deque([1, 2, 3, 4, 5], maxlen=5)\n",
        "test_deque.append(6)\n",
        "# test_deque[1:2]"
      ],
      "metadata": {
        "id": "KrE5n5vXNOr5"
      },
      "execution_count": null,
      "outputs": []
    },
    {
      "cell_type": "code",
      "source": [
        "import random\n",
        "\n",
        "def replay():\n",
        "  x_batch, y_batch = [], []\n",
        "  batch = random.sample(memory, batch_size) if len(memory) > batch_size else list(memory) # выберите случайным образом batch_size или кортежей из памяти. Если кортежей в памяти меньше чем batch_size - выберите все кортежи\n",
        "  for state, action, reward, next_state, done in batch:\n",
        "    y_target = model.predict(state, verbose=0) # получите предсказание модели для данного состояния state\n",
        "    # print(y_target)\n",
        "    y_target[0][action] = reward if done else reward + gamma * max(model.predict(next_state, verbose=0)[0])\n",
        "    # обновите значение y_target[0][action] - если игра окончена, то в качестве значения поставьте текущую награду на данном шаге\n",
        "    # если игра не окончена, то сделайте предсказание и поставьте в качестве значения произведение gamma и предсказанного сетью\n",
        "    # максимального значения полезности\n",
        "\n",
        "    x_batch.append(state[0])\n",
        "    y_batch.append(y_target[0])\n",
        "  # обучите модель на всех парах данных из (state[0], y_target[0])\n",
        "  # print('x: ', x_batch, 'y: ', y_batch)\n",
        "  model.fit(np.array(x_batch), np.array(y_batch), verbose=0)\n",
        "  # model.fit(x_batch, y_batch, verbose=0)"
      ],
      "metadata": {
        "id": "-Ya7PXNEWQwc"
      },
      "execution_count": null,
      "outputs": []
    },
    {
      "cell_type": "code",
      "source": [
        "# массив оценок\n",
        "zxc = []\n",
        "\n",
        "for game in range(n_games): \n",
        "  state = env.reset()\n",
        "  current_state = np.reshape(state, (1, env.observation_space.shape[0]))  # измените размерность на (1, 4)\n",
        "  t = 0\n",
        "  while True:\n",
        "    # получите current_action пользуясь epsilon-жадной стратегией (используйте предсказания нейросети для текущегосостояния)\n",
        "    current_action = random.randrange(env.action_space.n) if epsilon > np.random.uniform(0, 1) else np.argmax(model.predict(current_state, verbose=0)[0])\n",
        "\n",
        "    next_state, reward, done, info = env.step(current_action)\n",
        "    next_state = np.reshape(next_state, (1, env.observation_space.shape[0]))  # измените размерность на (1, 4)\n",
        "    # запомните информацию, добавьте ее в память\n",
        "    remember(current_state, current_action, reward, next_state, done)\n",
        "\n",
        "    current_state = next_state\n",
        "    t += 1\n",
        "    if done:\n",
        "      print(f\"Игра: {game}, Эпсилон: {epsilon}, Награда за игру: {t}\")\n",
        "      zxc.append(t)\n",
        "      break\n",
        "  replay()\n",
        "  epsilon = epsilon * epsilon_decay if epsilon > min_epsilon else min_epsilon\n",
        "# произведите обучение сети, помните о реализованном подходе с памятью\n",
        "# обновите значение эпсилон с помощью умножения. Следите за минимальным значением эпсилон"
      ],
      "metadata": {
        "id": "lPaSXP7PYlvi",
        "colab": {
          "base_uri": "https://localhost:8080/"
        },
        "outputId": "97de6515-0df2-4d08-8641-f9c14f03f292"
      },
      "execution_count": null,
      "outputs": [
        {
          "output_type": "stream",
          "name": "stdout",
          "text": [
            "Игра: 0, Эпсилон: 1, Награда за игру: 16\n",
            "Игра: 1, Эпсилон: 0.99, Награда за игру: 10\n",
            "Игра: 2, Эпсилон: 0.9801, Награда за игру: 12\n",
            "Игра: 3, Эпсилон: 0.9702989999999999, Награда за игру: 24\n",
            "Игра: 4, Эпсилон: 0.96059601, Награда за игру: 11\n",
            "Игра: 5, Эпсилон: 0.9509900498999999, Награда за игру: 14\n",
            "Игра: 6, Эпсилон: 0.9414801494009999, Награда за игру: 36\n",
            "Игра: 7, Эпсилон: 0.9320653479069899, Награда за игру: 21\n",
            "Игра: 8, Эпсилон: 0.92274469442792, Награда за игру: 15\n",
            "Игра: 9, Эпсилон: 0.9135172474836407, Награда за игру: 20\n",
            "Игра: 10, Эпсилон: 0.9043820750088043, Награда за игру: 17\n",
            "Игра: 11, Эпсилон: 0.8953382542587163, Награда за игру: 51\n",
            "Игра: 12, Эпсилон: 0.8863848717161291, Награда за игру: 15\n",
            "Игра: 13, Эпсилон: 0.8775210229989678, Награда за игру: 11\n",
            "Игра: 14, Эпсилон: 0.8687458127689781, Награда за игру: 35\n",
            "Игра: 15, Эпсилон: 0.8600583546412883, Награда за игру: 39\n",
            "Игра: 16, Эпсилон: 0.8514577710948754, Награда за игру: 16\n",
            "Игра: 17, Эпсилон: 0.8429431933839266, Награда за игру: 24\n",
            "Игра: 18, Эпсилон: 0.8345137614500874, Награда за игру: 24\n",
            "Игра: 19, Эпсилон: 0.8261686238355865, Награда за игру: 30\n",
            "Игра: 20, Эпсилон: 0.8179069375972307, Награда за игру: 11\n",
            "Игра: 21, Эпсилон: 0.8097278682212583, Награда за игру: 20\n",
            "Игра: 22, Эпсилон: 0.8016305895390458, Награда за игру: 42\n",
            "Игра: 23, Эпсилон: 0.7936142836436553, Награда за игру: 27\n",
            "Игра: 24, Эпсилон: 0.7856781408072188, Награда за игру: 14\n",
            "Игра: 25, Эпсилон: 0.7778213593991465, Награда за игру: 28\n",
            "Игра: 26, Эпсилон: 0.7700431458051551, Награда за игру: 23\n",
            "Игра: 27, Эпсилон: 0.7623427143471035, Награда за игру: 15\n",
            "Игра: 28, Эпсилон: 0.7547192872036325, Награда за игру: 16\n",
            "Игра: 29, Эпсилон: 0.7471720943315961, Награда за игру: 14\n",
            "Игра: 30, Эпсилон: 0.7397003733882802, Награда за игру: 14\n",
            "Игра: 31, Эпсилон: 0.7323033696543974, Награда за игру: 18\n",
            "Игра: 32, Эпсилон: 0.7249803359578534, Награда за игру: 42\n",
            "Игра: 33, Эпсилон: 0.7177305325982748, Награда за игру: 41\n",
            "Игра: 34, Эпсилон: 0.7105532272722921, Награда за игру: 79\n",
            "Игра: 35, Эпсилон: 0.7034476949995692, Награда за игру: 31\n",
            "Игра: 36, Эпсилон: 0.6964132180495735, Награда за игру: 19\n",
            "Игра: 37, Эпсилон: 0.6894490858690777, Награда за игру: 16\n",
            "Игра: 38, Эпсилон: 0.682554595010387, Награда за игру: 67\n",
            "Игра: 39, Эпсилон: 0.6757290490602831, Награда за игру: 35\n",
            "Игра: 40, Эпсилон: 0.6689717585696803, Награда за игру: 23\n",
            "Игра: 41, Эпсилон: 0.6622820409839835, Награда за игру: 24\n",
            "Игра: 42, Эпсилон: 0.6556592205741436, Награда за игру: 23\n",
            "Игра: 43, Эпсилон: 0.6491026283684022, Награда за игру: 15\n",
            "Игра: 44, Эпсилон: 0.6426116020847181, Награда за игру: 51\n",
            "Игра: 45, Эпсилон: 0.6361854860638709, Награда за игру: 39\n",
            "Игра: 46, Эпсилон: 0.6298236312032323, Награда за игру: 148\n",
            "Игра: 47, Эпсилон: 0.6235253948912, Награда за игру: 57\n",
            "Игра: 48, Эпсилон: 0.617290140942288, Награда за игру: 62\n",
            "Игра: 49, Эпсилон: 0.6111172395328651, Награда за игру: 123\n",
            "Игра: 50, Эпсилон: 0.6050060671375365, Награда за игру: 26\n",
            "Игра: 51, Эпсилон: 0.5989560064661611, Награда за игру: 13\n",
            "Игра: 52, Эпсилон: 0.5929664464014994, Награда за игру: 27\n",
            "Игра: 53, Эпсилон: 0.5870367819374844, Награда за игру: 164\n",
            "Игра: 54, Эпсилон: 0.5811664141181095, Награда за игру: 75\n",
            "Игра: 55, Эпсилон: 0.5753547499769285, Награда за игру: 82\n",
            "Игра: 56, Эпсилон: 0.5696012024771592, Награда за игру: 71\n",
            "Игра: 57, Эпсилон: 0.5639051904523876, Награда за игру: 17\n",
            "Игра: 58, Эпсилон: 0.5582661385478638, Награда за игру: 127\n",
            "Игра: 59, Эпсилон: 0.5526834771623851, Награда за игру: 17\n",
            "Игра: 60, Эпсилон: 0.5471566423907612, Награда за игру: 16\n",
            "Игра: 61, Эпсилон: 0.5416850759668536, Награда за игру: 54\n",
            "Игра: 62, Эпсилон: 0.536268225207185, Награда за игру: 130\n",
            "Игра: 63, Эпсилон: 0.5309055429551132, Награда за игру: 96\n",
            "Игра: 64, Эпсилон: 0.525596487525562, Награда за игру: 67\n",
            "Игра: 65, Эпсилон: 0.5203405226503064, Награда за игру: 41\n",
            "Игра: 66, Эпсилон: 0.5151371174238033, Награда за игру: 10\n",
            "Игра: 67, Эпсилон: 0.5099857462495653, Награда за игру: 93\n",
            "Игра: 68, Эпсилон: 0.5048858887870696, Награда за игру: 107\n",
            "Игра: 69, Эпсилон: 0.4998370298991989, Награда за игру: 167\n",
            "Игра: 70, Эпсилон: 0.49483865960020695, Награда за игру: 145\n",
            "Игра: 71, Эпсилон: 0.4898902730042049, Награда за игру: 31\n",
            "Игра: 72, Эпсилон: 0.48499137027416284, Награда за игру: 106\n",
            "Игра: 73, Эпсилон: 0.4801414565714212, Награда за игру: 153\n",
            "Игра: 74, Эпсилон: 0.475340042005707, Награда за игру: 126\n",
            "Игра: 75, Эпсилон: 0.47058664158564995, Награда за игру: 59\n",
            "Игра: 76, Эпсилон: 0.4658807751697934, Награда за игру: 54\n",
            "Игра: 77, Эпсилон: 0.4612219674180955, Награда за игру: 165\n",
            "Игра: 78, Эпсилон: 0.45660974774391455, Награда за игру: 121\n",
            "Игра: 79, Эпсилон: 0.4520436502664754, Награда за игру: 103\n",
            "Игра: 80, Эпсилон: 0.44752321376381066, Награда за игру: 88\n",
            "Игра: 81, Эпсилон: 0.44304798162617254, Награда за игру: 20\n",
            "Игра: 82, Эпсилон: 0.4386175018099108, Награда за игру: 94\n",
            "Игра: 83, Эпсилон: 0.4342313267918117, Награда за игру: 12\n",
            "Игра: 84, Эпсилон: 0.4298890135238936, Награда за игру: 17\n",
            "Игра: 85, Эпсилон: 0.42559012338865465, Награда за игру: 89\n",
            "Игра: 86, Эпсилон: 0.4213342221547681, Награда за игру: 143\n",
            "Игра: 87, Эпсилон: 0.41712087993322045, Награда за игру: 196\n",
            "Игра: 88, Эпсилон: 0.41294967113388825, Награда за игру: 192\n",
            "Игра: 89, Эпсилон: 0.40882017442254937, Награда за игру: 220\n",
            "Игра: 90, Эпсилон: 0.4047319726783239, Награда за игру: 154\n",
            "Игра: 91, Эпсилон: 0.40068465295154065, Награда за игру: 139\n",
            "Игра: 92, Эпсилон: 0.39667780642202527, Награда за игру: 13\n",
            "Игра: 93, Эпсилон: 0.392711028357805, Награда за игру: 95\n",
            "Игра: 94, Эпсилон: 0.38878391807422696, Награда за игру: 139\n",
            "Игра: 95, Эпсилон: 0.3848960788934847, Награда за игру: 128\n",
            "Игра: 96, Эпсилон: 0.38104711810454983, Награда за игру: 69\n",
            "Игра: 97, Эпсилон: 0.37723664692350434, Награда за игру: 158\n",
            "Игра: 98, Эпсилон: 0.37346428045426927, Награда за игру: 199\n",
            "Игра: 99, Эпсилон: 0.36972963764972655, Награда за игру: 204\n",
            "Игра: 100, Эпсилон: 0.36603234127322926, Награда за игру: 14\n",
            "Игра: 101, Эпсилон: 0.36237201786049694, Награда за игру: 89\n",
            "Игра: 102, Эпсилон: 0.358748297681892, Награда за игру: 20\n",
            "Игра: 103, Эпсилон: 0.35516081470507305, Награда за игру: 13\n",
            "Игра: 104, Эпсилон: 0.3516092065580223, Награда за игру: 156\n",
            "Игра: 105, Эпсилон: 0.34809311449244207, Награда за игру: 213\n",
            "Игра: 106, Эпсилон: 0.34461218334751764, Награда за игру: 155\n",
            "Игра: 107, Эпсилон: 0.34116606151404244, Награда за игру: 98\n",
            "Игра: 108, Эпсилон: 0.337754400898902, Награда за игру: 180\n",
            "Игра: 109, Эпсилон: 0.334376856889913, Награда за игру: 153\n",
            "Игра: 110, Эпсилон: 0.33103308832101386, Награда за игру: 19\n",
            "Игра: 111, Эпсилон: 0.3277227574378037, Награда за игру: 137\n",
            "Игра: 112, Эпсилон: 0.3244455298634257, Награда за игру: 165\n",
            "Игра: 113, Эпсилон: 0.3212010745647914, Награда за игру: 305\n",
            "Игра: 114, Эпсилон: 0.3179890638191435, Награда за игру: 142\n",
            "Игра: 115, Эпсилон: 0.31480917318095203, Награда за игру: 129\n",
            "Игра: 116, Эпсилон: 0.3116610814491425, Награда за игру: 108\n",
            "Игра: 117, Эпсилон: 0.30854447063465107, Награда за игру: 154\n",
            "Игра: 118, Эпсилон: 0.30545902592830454, Награда за игру: 143\n",
            "Игра: 119, Эпсилон: 0.3024044356690215, Награда за игру: 170\n",
            "Игра: 120, Эпсилон: 0.29938039131233124, Награда за игру: 216\n",
            "Игра: 121, Эпсилон: 0.2963865873992079, Награда за игру: 280\n",
            "Игра: 122, Эпсилон: 0.29342272152521587, Награда за игру: 204\n",
            "Игра: 123, Эпсилон: 0.2904884943099637, Награда за игру: 150\n",
            "Игра: 124, Эпсилон: 0.28758360936686406, Награда за игру: 146\n",
            "Игра: 125, Эпсилон: 0.2847077732731954, Награда за игру: 175\n",
            "Игра: 126, Эпсилон: 0.28186069554046345, Награда за игру: 172\n",
            "Игра: 127, Эпсилон: 0.2790420885850588, Награда за игру: 215\n",
            "Игра: 128, Эпсилон: 0.2762516676992082, Награда за игру: 244\n",
            "Игра: 129, Эпсилон: 0.27348915102221616, Награда за игру: 173\n",
            "Игра: 130, Эпсилон: 0.270754259511994, Награда за игру: 154\n",
            "Игра: 131, Эпсилон: 0.26804671691687404, Награда за игру: 166\n",
            "Игра: 132, Эпсилон: 0.2653662497477053, Награда за игру: 211\n",
            "Игра: 133, Эпсилон: 0.2627125872502282, Награда за игру: 184\n",
            "Игра: 134, Эпсилон: 0.2600854613777259, Награда за игру: 275\n",
            "Игра: 135, Эпсилон: 0.2574846067639487, Награда за игру: 147\n",
            "Игра: 136, Эпсилон: 0.2549097606963092, Награда за игру: 167\n",
            "Игра: 137, Эпсилон: 0.2523606630893461, Награда за игру: 26\n",
            "Игра: 138, Эпсилон: 0.24983705645845267, Награда за игру: 179\n",
            "Игра: 139, Эпсилон: 0.24733868589386815, Награда за игру: 243\n",
            "Игра: 140, Эпсилон: 0.24486529903492946, Награда за игру: 169\n",
            "Игра: 141, Эпсилон: 0.24241664604458016, Награда за игру: 311\n",
            "Игра: 142, Эпсилон: 0.23999247958413436, Награда за игру: 315\n",
            "Игра: 143, Эпсилон: 0.23759255478829303, Награда за игру: 183\n",
            "Игра: 144, Эпсилон: 0.2352166292404101, Награда за игру: 222\n",
            "Игра: 145, Эпсилон: 0.232864462948006, Награда за игру: 111\n",
            "Игра: 146, Эпсилон: 0.23053581831852593, Награда за игру: 14\n",
            "Игра: 147, Эпсилон: 0.22823046013534068, Награда за игру: 155\n",
            "Игра: 148, Эпсилон: 0.22594815553398728, Награда за игру: 133\n",
            "Игра: 149, Эпсилон: 0.22368867397864742, Награда за игру: 205\n",
            "Игра: 150, Эпсилон: 0.22145178723886094, Награда за игру: 128\n",
            "Игра: 151, Эпсилон: 0.21923726936647234, Награда за игру: 111\n",
            "Игра: 152, Эпсилон: 0.2170448966728076, Награда за игру: 74\n",
            "Игра: 153, Эпсилон: 0.21487444770607952, Награда за игру: 96\n",
            "Игра: 154, Эпсилон: 0.21272570322901874, Награда за игру: 24\n",
            "Игра: 155, Эпсилон: 0.21059844619672854, Награда за игру: 24\n",
            "Игра: 156, Эпсилон: 0.20849246173476127, Награда за игру: 110\n",
            "Игра: 157, Эпсилон: 0.20640753711741366, Награда за игру: 17\n",
            "Игра: 158, Эпсилон: 0.20434346174623952, Награда за игру: 104\n",
            "Игра: 159, Эпсилон: 0.20230002712877712, Награда за игру: 129\n",
            "Игра: 160, Эпсилон: 0.20027702685748935, Награда за игру: 106\n",
            "Игра: 161, Эпсилон: 0.19827425658891445, Награда за игру: 106\n",
            "Игра: 162, Эпсилон: 0.1962915140230253, Награда за игру: 115\n",
            "Игра: 163, Эпсилон: 0.19432859888279505, Награда за игру: 198\n",
            "Игра: 164, Эпсилон: 0.1923853128939671, Награда за игру: 189\n",
            "Игра: 165, Эпсилон: 0.19046145976502743, Награда за игру: 172\n",
            "Игра: 166, Эпсилон: 0.18855684516737714, Награда за игру: 117\n",
            "Игра: 167, Эпсилон: 0.18667127671570335, Награда за игру: 193\n",
            "Игра: 168, Эпсилон: 0.18480456394854633, Награда за игру: 328\n",
            "Игра: 169, Эпсилон: 0.18295651830906087, Награда за игру: 152\n",
            "Игра: 170, Эпсилон: 0.18112695312597027, Награда за игру: 118\n",
            "Игра: 171, Эпсилон: 0.17931568359471056, Награда за игру: 97\n",
            "Игра: 172, Эпсилон: 0.17752252675876345, Награда за игру: 113\n",
            "Игра: 173, Эпсилон: 0.17574730149117582, Награда за игру: 178\n",
            "Игра: 174, Эпсилон: 0.17398982847626407, Награда за игру: 191\n",
            "Игра: 175, Эпсилон: 0.17224993019150142, Награда за игру: 176\n",
            "Игра: 176, Эпсилон: 0.1705274308895864, Награда за игру: 226\n",
            "Игра: 177, Эпсилон: 0.16882215658069055, Награда за игру: 202\n",
            "Игра: 178, Эпсилон: 0.16713393501488363, Награда за игру: 155\n",
            "Игра: 179, Эпсилон: 0.16546259566473479, Награда за игру: 155\n",
            "Игра: 180, Эпсилон: 0.16380796970808745, Награда за игру: 171\n",
            "Игра: 181, Эпсилон: 0.16216989001100657, Награда за игру: 463\n",
            "Игра: 182, Эпсилон: 0.1605481911108965, Награда за игру: 352\n",
            "Игра: 183, Эпсилон: 0.15894270919978754, Награда за игру: 218\n",
            "Игра: 184, Эпсилон: 0.15735328210778965, Награда за игру: 167\n",
            "Игра: 185, Эпсилон: 0.15577974928671176, Награда за игру: 298\n",
            "Игра: 186, Эпсилон: 0.15422195179384465, Награда за игру: 201\n",
            "Игра: 187, Эпсилон: 0.1526797322759062, Награда за игру: 222\n",
            "Игра: 188, Эпсилон: 0.15115293495314713, Награда за игру: 179\n",
            "Игра: 189, Эпсилон: 0.14964140560361566, Награда за игру: 134\n",
            "Игра: 190, Эпсилон: 0.1481449915475795, Награда за игру: 160\n",
            "Игра: 191, Эпсилон: 0.1466635416321037, Награда за игру: 378\n",
            "Игра: 192, Эпсилон: 0.14519690621578268, Награда за игру: 236\n",
            "Игра: 193, Эпсилон: 0.14374493715362485, Награда за игру: 151\n",
            "Игра: 194, Эпсилон: 0.1423074877820886, Награда за игру: 142\n",
            "Игра: 195, Эпсилон: 0.1408844129042677, Награда за игру: 293\n",
            "Игра: 196, Эпсилон: 0.13947556877522502, Награда за игру: 164\n",
            "Игра: 197, Эпсилон: 0.13808081308747278, Награда за игру: 348\n",
            "Игра: 198, Эпсилон: 0.13670000495659804, Награда за игру: 382\n",
            "Игра: 199, Эпсилон: 0.13533300490703207, Награда за игру: 376\n",
            "Игра: 200, Эпсилон: 0.13397967485796175, Награда за игру: 212\n",
            "Игра: 201, Эпсилон: 0.13263987810938213, Награда за игру: 322\n",
            "Игра: 202, Эпсилон: 0.1313134793282883, Награда за игру: 241\n",
            "Игра: 203, Эпсилон: 0.13000034453500542, Награда за игру: 230\n",
            "Игра: 204, Эпсилон: 0.12870034108965536, Награда за игру: 151\n",
            "Игра: 205, Эпсилон: 0.12741333767875881, Награда за игру: 133\n",
            "Игра: 206, Эпсилон: 0.12613920430197123, Награда за игру: 162\n",
            "Игра: 207, Эпсилон: 0.12487781225895152, Награда за игру: 132\n",
            "Игра: 208, Эпсилон: 0.123629034136362, Награда за игру: 132\n",
            "Игра: 209, Эпсилон: 0.12239274379499838, Награда за игру: 116\n",
            "Игра: 210, Эпсилон: 0.1211688163570484, Награда за игру: 121\n",
            "Игра: 211, Эпсилон: 0.11995712819347792, Награда за игру: 145\n",
            "Игра: 212, Эпсилон: 0.11875755691154315, Награда за игру: 135\n",
            "Игра: 213, Эпсилон: 0.11756998134242772, Награда за игру: 101\n",
            "Игра: 214, Эпсилон: 0.11639428152900344, Награда за игру: 130\n",
            "Игра: 215, Эпсилон: 0.11523033871371341, Награда за игру: 145\n",
            "Игра: 216, Эпсилон: 0.11407803532657627, Награда за игру: 152\n",
            "Игра: 217, Эпсилон: 0.11293725497331052, Награда за игру: 224\n",
            "Игра: 218, Эпсилон: 0.1118078824235774, Награда за игру: 122\n",
            "Игра: 219, Эпсилон: 0.11068980359934164, Награда за игру: 125\n",
            "Игра: 220, Эпсилон: 0.10958290556334822, Награда за игру: 156\n",
            "Игра: 221, Эпсилон: 0.10848707650771475, Награда за игру: 135\n",
            "Игра: 222, Эпсилон: 0.1074022057426376, Награда за игру: 247\n",
            "Игра: 223, Эпсилон: 0.10632818368521123, Награда за игру: 233\n",
            "Игра: 224, Эпсилон: 0.10526490184835911, Награда за игру: 193\n",
            "Игра: 225, Эпсилон: 0.10421225282987552, Награда за игру: 251\n",
            "Игра: 226, Эпсилон: 0.10317013030157676, Награда за игру: 160\n",
            "Игра: 227, Эпсилон: 0.10213842899856099, Награда за игру: 155\n",
            "Игра: 228, Эпсилон: 0.10111704470857538, Награда за игру: 219\n",
            "Игра: 229, Эпсилон: 0.10010587426148963, Награда за игру: 201\n",
            "Игра: 230, Эпсилон: 0.09910481551887473, Награда за игру: 279\n",
            "Игра: 231, Эпсилон: 0.09811376736368599, Награда за игру: 120\n",
            "Игра: 232, Эпсилон: 0.09713262969004913, Награда за игру: 128\n",
            "Игра: 233, Эпсилон: 0.09616130339314863, Награда за игру: 150\n",
            "Игра: 234, Эпсилон: 0.09519969035921715, Награда за игру: 141\n",
            "Игра: 235, Эпсилон: 0.09424769345562498, Награда за игру: 134\n",
            "Игра: 236, Эпсилон: 0.09330521652106873, Награда за игру: 120\n",
            "Игра: 237, Эпсилон: 0.09237216435585804, Награда за игру: 155\n",
            "Игра: 238, Эпсилон: 0.09144844271229946, Награда за игру: 190\n",
            "Игра: 239, Эпсилон: 0.09053395828517646, Награда за игру: 197\n",
            "Игра: 240, Эпсилон: 0.08962861870232469, Награда за игру: 234\n",
            "Игра: 241, Эпсилон: 0.08873233251530144, Награда за игру: 159\n",
            "Игра: 242, Эпсилон: 0.08784500919014843, Награда за игру: 192\n",
            "Игра: 243, Эпсилон: 0.08696655909824694, Награда за игру: 215\n",
            "Игра: 244, Эпсилон: 0.08609689350726446, Награда за игру: 197\n",
            "Игра: 245, Эпсилон: 0.08523592457219181, Награда за игру: 426\n",
            "Игра: 246, Эпсилон: 0.0843835653264699, Награда за игру: 139\n",
            "Игра: 247, Эпсилон: 0.0835397296732052, Награда за игру: 140\n",
            "Игра: 248, Эпсилон: 0.08270433237647315, Награда за игру: 137\n",
            "Игра: 249, Эпсилон: 0.08187728905270841, Награда за игру: 141\n",
            "Игра: 250, Эпсилон: 0.08105851616218133, Награда за игру: 315\n",
            "Игра: 251, Эпсилон: 0.08024793100055952, Награда за игру: 161\n",
            "Игра: 252, Эпсилон: 0.07944545169055392, Награда за игру: 214\n",
            "Игра: 253, Эпсилон: 0.07865099717364837, Награда за игру: 147\n",
            "Игра: 254, Эпсилон: 0.07786448720191189, Награда за игру: 166\n",
            "Игра: 255, Эпсилон: 0.07708584232989277, Награда за игру: 199\n",
            "Игра: 256, Эпсилон: 0.07631498390659384, Награда за игру: 234\n",
            "Игра: 257, Эпсилон: 0.07555183406752791, Награда за игру: 168\n",
            "Игра: 258, Эпсилон: 0.07479631572685264, Награда за игру: 186\n",
            "Игра: 259, Эпсилон: 0.07404835256958411, Награда за игру: 405\n",
            "Игра: 260, Эпсилон: 0.07330786904388827, Награда за игру: 202\n",
            "Игра: 261, Эпсилон: 0.07257479035344938, Награда за игру: 123\n",
            "Игра: 262, Эпсилон: 0.07184904244991488, Награда за игру: 129\n",
            "Игра: 263, Эпсилон: 0.07113055202541574, Награда за игру: 160\n",
            "Игра: 264, Эпсилон: 0.07041924650516158, Награда за игру: 140\n",
            "Игра: 265, Эпсилон: 0.06971505404010997, Награда за игру: 153\n",
            "Игра: 266, Эпсилон: 0.06901790349970886, Награда за игру: 147\n",
            "Игра: 267, Эпсилон: 0.06832772446471178, Награда за игру: 147\n",
            "Игра: 268, Эпсилон: 0.06764444722006466, Награда за игру: 143\n",
            "Игра: 269, Эпсилон: 0.066968002747864, Награда за игру: 139\n",
            "Игра: 270, Эпсилон: 0.06629832272038537, Награда за игру: 126\n",
            "Игра: 271, Эпсилон: 0.06563533949318151, Награда за игру: 141\n",
            "Игра: 272, Эпсилон: 0.06497898609824969, Награда за игру: 137\n",
            "Игра: 273, Эпсилон: 0.0643291962372672, Награда за игру: 128\n",
            "Игра: 274, Эпсилон: 0.06368590427489453, Награда за игру: 111\n",
            "Игра: 275, Эпсилон: 0.06304904523214558, Награда за игру: 115\n",
            "Игра: 276, Эпсилон: 0.06241855477982412, Награда за игру: 111\n",
            "Игра: 277, Эпсилон: 0.06179436923202588, Награда за игру: 128\n",
            "Игра: 278, Эпсилон: 0.06117642553970562, Награда за игру: 135\n",
            "Игра: 279, Эпсилон: 0.06056466128430856, Награда за игру: 112\n",
            "Игра: 280, Эпсилон: 0.05995901467146548, Награда за игру: 109\n",
            "Игра: 281, Эпсилон: 0.05935942452475082, Награда за игру: 109\n",
            "Игра: 282, Эпсилон: 0.058765830279503314, Награда за игру: 110\n",
            "Игра: 283, Эпсилон: 0.05817817197670828, Награда за игру: 112\n",
            "Игра: 284, Эпсилон: 0.057596390256941195, Награда за игру: 109\n",
            "Игра: 285, Эпсилон: 0.05702042635437178, Награда за игру: 91\n",
            "Игра: 286, Эпсилон: 0.05645022209082806, Награда за игру: 34\n",
            "Игра: 287, Эпсилон: 0.05588571986991978, Награда за игру: 99\n",
            "Игра: 288, Эпсилон: 0.055326862671220584, Награда за игру: 106\n",
            "Игра: 289, Эпсилон: 0.05477359404450838, Награда за игру: 106\n",
            "Игра: 290, Эпсилон: 0.054225858104063294, Награда за игру: 125\n",
            "Игра: 291, Эпсилон: 0.05368359952302266, Награда за игру: 112\n",
            "Игра: 292, Эпсилон: 0.053146763527792434, Награда за игру: 152\n",
            "Игра: 293, Эпсилон: 0.052615295892514506, Награда за игру: 117\n",
            "Игра: 294, Эпсилон: 0.052089142933589364, Награда за игру: 111\n",
            "Игра: 295, Эпсилон: 0.05156825150425347, Награда за игру: 113\n",
            "Игра: 296, Эпсилон: 0.051052568989210935, Награда за игру: 133\n",
            "Игра: 297, Эпсилон: 0.05054204329931883, Награда за игру: 127\n",
            "Игра: 298, Эпсилон: 0.05003662286632564, Награда за игру: 154\n",
            "Игра: 299, Эпсилон: 0.04953625663766238, Награда за игру: 106\n"
          ]
        }
      ]
    },
    {
      "cell_type": "code",
      "source": [
        "zxc = np.array(zxc)\n",
        "print(f'Процент \"успешных\" прохождений: {(len(zxc[zxc > 100]) / len(zxc)) * 100}%')"
      ],
      "metadata": {
        "colab": {
          "base_uri": "https://localhost:8080/"
        },
        "id": "mlXLsAXkNfgx",
        "outputId": "edb85cca-7753-4aa8-c6ca-562f3cbabdc7"
      },
      "execution_count": null,
      "outputs": [
        {
          "output_type": "stream",
          "name": "stdout",
          "text": [
            "Процент \"успешных\" прохождений: 69.33333333333334%\n"
          ]
        }
      ]
    },
    {
      "cell_type": "code",
      "source": [
        "m = zxc.mean()\n",
        "plt.figure(figsize=(15, 7))\n",
        "plt.plot(zxc, label='score')\n",
        "plt.plot([100 for _ in zxc], label='score=100')\n",
        "plt.plot([m for _ in zxc], label='mean score')\n",
        "plt.legend()"
      ],
      "metadata": {
        "colab": {
          "base_uri": "https://localhost:8080/",
          "height": 445
        },
        "id": "iQrZa_YVNohl",
        "outputId": "8c174339-050b-4316-b7ad-b1277c7323e9"
      },
      "execution_count": null,
      "outputs": [
        {
          "output_type": "execute_result",
          "data": {
            "text/plain": [
              "<matplotlib.legend.Legend at 0x7ff7afb0f0d0>"
            ]
          },
          "metadata": {},
          "execution_count": 41
        },
        {
          "output_type": "display_data",
          "data": {
            "text/plain": [
              "<Figure size 1080x504 with 1 Axes>"
            ],
            "image/png": "[encoded data removed]"
          },
          "metadata": {
            "needs_background": "light"
          }
        }
      ]
    },
    {
      "cell_type": "markdown",
      "source": [
        "### конкурс конкурс конкурс !"
      ],
      "metadata": {
        "id": "y8LpZGDah2DP"
      }
    },
    {
      "cell_type": "code",
      "source": [
        "# реплей закомменирован потому что учиться нам не нужно больше\n",
        "# епсилон тоже закомменитрован потому что жадную стратегию убрали\n",
        "# ремембер тоже закомменитрован потому что\n",
        "  # данные для обучения уже не надо сохранять\n",
        "\n",
        "# массив оценок\n",
        "scores = []\n",
        "\n",
        "for game in range(200): \n",
        "  state = env.reset()\n",
        "  current_state = np.reshape(state, (1, env.observation_space.shape[0]))\n",
        "  t = 0\n",
        "  while True:\n",
        "    current_action = np.argmax(model.predict(current_state, verbose=0)[0])\n",
        "\n",
        "    next_state, reward, done, info = env.step(current_action)\n",
        "    next_state = np.reshape(next_state, (1, env.observation_space.shape[0]))\n",
        "    # remember(current_state, current_action, reward, next_state, done)\n",
        "\n",
        "    current_state = next_state\n",
        "    t += 1\n",
        "    if done:\n",
        "      print(\"Игра: {:0>3d}\\tНаграда за игру: {}\".format(game, t))\n",
        "      scores.append(t)\n",
        "      break\n",
        "  # replay()\n",
        "  # epsilon = epsilon * epsilon_decay if epsilon > min_epsilon else min_epsilon"
      ],
      "metadata": {
        "colab": {
          "base_uri": "https://localhost:8080/"
        },
        "id": "aQ5uCpikh5On",
        "outputId": "a691b644-9c76-4431-8e55-f4ee8dda4191"
      },
      "execution_count": null,
      "outputs": [
        {
          "output_type": "stream",
          "name": "stdout",
          "text": [
            "Игра: 000\tНаграда за игру: 117\n",
            "Игра: 001\tНаграда за игру: 116\n",
            "Игра: 002\tНаграда за игру: 108\n",
            "Игра: 003\tНаграда за игру: 110\n",
            "Игра: 004\tНаграда за игру: 113\n",
            "Игра: 005\tНаграда за игру: 101\n",
            "Игра: 006\tНаграда за игру: 104\n",
            "Игра: 007\tНаграда за игру: 101\n",
            "Игра: 008\tНаграда за игру: 108\n",
            "Игра: 009\tНаграда за игру: 117\n",
            "Игра: 010\tНаграда за игру: 112\n",
            "Игра: 011\tНаграда за игру: 114\n",
            "Игра: 012\tНаграда за игру: 106\n",
            "Игра: 013\tНаграда за игру: 103\n",
            "Игра: 014\tНаграда за игру: 104\n",
            "Игра: 015\tНаграда за игру: 114\n",
            "Игра: 016\tНаграда за игру: 108\n",
            "Игра: 017\tНаграда за игру: 120\n",
            "Игра: 018\tНаграда за игру: 116\n",
            "Игра: 019\tНаграда за игру: 105\n",
            "Игра: 020\tНаграда за игру: 99\n",
            "Игра: 021\tНаграда за игру: 118\n",
            "Игра: 022\tНаграда за игру: 111\n",
            "Игра: 023\tНаграда за игру: 118\n",
            "Игра: 024\tНаграда за игру: 110\n",
            "Игра: 025\tНаграда за игру: 114\n",
            "Игра: 026\tНаграда за игру: 107\n",
            "Игра: 027\tНаграда за игру: 117\n",
            "Игра: 028\tНаграда за игру: 112\n",
            "Игра: 029\tНаграда за игру: 103\n",
            "Игра: 030\tНаграда за игру: 125\n",
            "Игра: 031\tНаграда за игру: 98\n",
            "Игра: 032\tНаграда за игру: 109\n",
            "Игра: 033\tНаграда за игру: 112\n",
            "Игра: 034\tНаграда за игру: 117\n",
            "Игра: 035\tНаграда за игру: 102\n",
            "Игра: 036\tНаграда за игру: 101\n",
            "Игра: 037\tНаграда за игру: 106\n",
            "Игра: 038\tНаграда за игру: 106\n",
            "Игра: 039\tНаграда за игру: 107\n",
            "Игра: 040\tНаграда за игру: 99\n",
            "Игра: 041\tНаграда за игру: 116\n",
            "Игра: 042\tНаграда за игру: 112\n",
            "Игра: 043\tНаграда за игру: 120\n",
            "Игра: 044\tНаграда за игру: 114\n",
            "Игра: 045\tНаграда за игру: 107\n",
            "Игра: 046\tНаграда за игру: 105\n",
            "Игра: 047\tНаграда за игру: 107\n",
            "Игра: 048\tНаграда за игру: 102\n",
            "Игра: 049\tНаграда за игру: 109\n",
            "Игра: 050\tНаграда за игру: 99\n",
            "Игра: 051\tНаграда за игру: 108\n",
            "Игра: 052\tНаграда за игру: 105\n",
            "Игра: 053\tНаграда за игру: 105\n",
            "Игра: 054\tНаграда за игру: 105\n",
            "Игра: 055\tНаграда за игру: 125\n",
            "Игра: 056\tНаграда за игру: 100\n",
            "Игра: 057\tНаграда за игру: 99\n",
            "Игра: 058\tНаграда за игру: 115\n",
            "Игра: 059\tНаграда за игру: 107\n",
            "Игра: 060\tНаграда за игру: 111\n",
            "Игра: 061\tНаграда за игру: 116\n",
            "Игра: 062\tНаграда за игру: 111\n",
            "Игра: 063\tНаграда за игру: 110\n",
            "Игра: 064\tНаграда за игру: 105\n",
            "Игра: 065\tНаграда за игру: 103\n",
            "Игра: 066\tНаграда за игру: 117\n",
            "Игра: 067\tНаграда за игру: 100\n",
            "Игра: 068\tНаграда за игру: 115\n",
            "Игра: 069\tНаграда за игру: 124\n",
            "Игра: 070\tНаграда за игру: 109\n",
            "Игра: 071\tНаграда за игру: 108\n",
            "Игра: 072\tНаграда за игру: 112\n",
            "Игра: 073\tНаграда за игру: 108\n",
            "Игра: 074\tНаграда за игру: 107\n",
            "Игра: 075\tНаграда за игру: 105\n",
            "Игра: 076\tНаграда за игру: 116\n",
            "Игра: 077\tНаграда за игру: 102\n",
            "Игра: 078\tНаграда за игру: 117\n",
            "Игра: 079\tНаграда за игру: 120\n",
            "Игра: 080\tНаграда за игру: 102\n",
            "Игра: 081\tНаграда за игру: 109\n",
            "Игра: 082\tНаграда за игру: 102\n",
            "Игра: 083\tНаграда за игру: 121\n",
            "Игра: 084\tНаграда за игру: 110\n",
            "Игра: 085\tНаграда за игру: 107\n",
            "Игра: 086\tНаграда за игру: 109\n",
            "Игра: 087\tНаграда за игру: 115\n",
            "Игра: 088\tНаграда за игру: 111\n",
            "Игра: 089\tНаграда за игру: 103\n",
            "Игра: 090\tНаграда за игру: 105\n",
            "Игра: 091\tНаграда за игру: 112\n",
            "Игра: 092\tНаграда за игру: 114\n",
            "Игра: 093\tНаграда за игру: 101\n",
            "Игра: 094\tНаграда за игру: 111\n",
            "Игра: 095\tНаграда за игру: 107\n",
            "Игра: 096\tНаграда за игру: 114\n",
            "Игра: 097\tНаграда за игру: 109\n",
            "Игра: 098\tНаграда за игру: 102\n",
            "Игра: 099\tНаграда за игру: 102\n",
            "Игра: 100\tНаграда за игру: 113\n",
            "Игра: 101\tНаграда за игру: 116\n",
            "Игра: 102\tНаграда за игру: 113\n",
            "Игра: 103\tНаграда за игру: 106\n",
            "Игра: 104\tНаграда за игру: 122\n",
            "Игра: 105\tНаграда за игру: 104\n",
            "Игра: 106\tНаграда за игру: 111\n",
            "Игра: 107\tНаграда за игру: 104\n",
            "Игра: 108\tНаграда за игру: 112\n",
            "Игра: 109\tНаграда за игру: 121\n",
            "Игра: 110\tНаграда за игру: 104\n",
            "Игра: 111\tНаграда за игру: 111\n",
            "Игра: 112\tНаграда за игру: 116\n",
            "Игра: 113\tНаграда за игру: 99\n",
            "Игра: 114\tНаграда за игру: 118\n",
            "Игра: 115\tНаграда за игру: 116\n",
            "Игра: 116\tНаграда за игру: 107\n",
            "Игра: 117\tНаграда за игру: 104\n",
            "Игра: 118\tНаграда за игру: 131\n",
            "Игра: 119\tНаграда за игру: 105\n",
            "Игра: 120\tНаграда за игру: 115\n",
            "Игра: 121\tНаграда за игру: 127\n",
            "Игра: 122\tНаграда за игру: 106\n",
            "Игра: 123\tНаграда за игру: 104\n",
            "Игра: 124\tНаграда за игру: 106\n",
            "Игра: 125\tНаграда за игру: 111\n",
            "Игра: 126\tНаграда за игру: 119\n",
            "Игра: 127\tНаграда за игру: 104\n",
            "Игра: 128\tНаграда за игру: 109\n",
            "Игра: 129\tНаграда за игру: 131\n",
            "Игра: 130\tНаграда за игру: 126\n",
            "Игра: 131\tНаграда за игру: 116\n",
            "Игра: 132\tНаграда за игру: 110\n",
            "Игра: 133\tНаграда за игру: 121\n",
            "Игра: 134\tНаграда за игру: 122\n",
            "Игра: 135\tНаграда за игру: 112\n",
            "Игра: 136\tНаграда за игру: 107\n",
            "Игра: 137\tНаграда за игру: 102\n",
            "Игра: 138\tНаграда за игру: 107\n",
            "Игра: 139\tНаграда за игру: 110\n",
            "Игра: 140\tНаграда за игру: 108\n",
            "Игра: 141\tНаграда за игру: 107\n",
            "Игра: 142\tНаграда за игру: 114\n",
            "Игра: 143\tНаграда за игру: 110\n",
            "Игра: 144\tНаграда за игру: 110\n",
            "Игра: 145\tНаграда за игру: 113\n",
            "Игра: 146\tНаграда за игру: 106\n",
            "Игра: 147\tНаграда за игру: 103\n",
            "Игра: 148\tНаграда за игру: 110\n",
            "Игра: 149\tНаграда за игру: 112\n",
            "Игра: 150\tНаграда за игру: 125\n",
            "Игра: 151\tНаграда за игру: 106\n",
            "Игра: 152\tНаграда за игру: 119\n",
            "Игра: 153\tНаграда за игру: 109\n",
            "Игра: 154\tНаграда за игру: 123\n",
            "Игра: 155\tНаграда за игру: 115\n",
            "Игра: 156\tНаграда за игру: 109\n",
            "Игра: 157\tНаграда за игру: 107\n",
            "Игра: 158\tНаграда за игру: 106\n",
            "Игра: 159\tНаграда за игру: 110\n",
            "Игра: 160\tНаграда за игру: 113\n",
            "Игра: 161\tНаграда за игру: 108\n",
            "Игра: 162\tНаграда за игру: 105\n",
            "Игра: 163\tНаграда за игру: 100\n",
            "Игра: 164\tНаграда за игру: 111\n",
            "Игра: 165\tНаграда за игру: 118\n",
            "Игра: 166\tНаграда за игру: 115\n",
            "Игра: 167\tНаграда за игру: 109\n",
            "Игра: 168\tНаграда за игру: 119\n",
            "Игра: 169\tНаграда за игру: 108\n",
            "Игра: 170\tНаграда за игру: 107\n",
            "Игра: 171\tНаграда за игру: 111\n",
            "Игра: 172\tНаграда за игру: 131\n",
            "Игра: 173\tНаграда за игру: 120\n",
            "Игра: 174\tНаграда за игру: 112\n",
            "Игра: 175\tНаграда за игру: 103\n",
            "Игра: 176\tНаграда за игру: 99\n",
            "Игра: 177\tНаграда за игру: 106\n",
            "Игра: 178\tНаграда за игру: 116\n",
            "Игра: 179\tНаграда за игру: 110\n",
            "Игра: 180\tНаграда за игру: 113\n",
            "Игра: 181\tНаграда за игру: 109\n",
            "Игра: 182\tНаграда за игру: 101\n",
            "Игра: 183\tНаграда за игру: 111\n",
            "Игра: 184\tНаграда за игру: 110\n",
            "Игра: 185\tНаграда за игру: 111\n",
            "Игра: 186\tНаграда за игру: 112\n",
            "Игра: 187\tНаграда за игру: 115\n",
            "Игра: 188\tНаграда за игру: 105\n",
            "Игра: 189\tНаграда за игру: 109\n",
            "Игра: 190\tНаграда за игру: 106\n",
            "Игра: 191\tНаграда за игру: 111\n",
            "Игра: 192\tНаграда за игру: 106\n",
            "Игра: 193\tНаграда за игру: 120\n",
            "Игра: 194\tНаграда за игру: 103\n",
            "Игра: 195\tНаграда за игру: 115\n",
            "Игра: 196\tНаграда за игру: 106\n",
            "Игра: 197\tНаграда за игру: 113\n",
            "Игра: 198\tНаграда за игру: 125\n",
            "Игра: 199\tНаграда за игру: 115\n",
            "Игра: 200\tНаграда за игру: 111\n",
            "Игра: 201\tНаграда за игру: 110\n",
            "Игра: 202\tНаграда за игру: 100\n",
            "Игра: 203\tНаграда за игру: 109\n",
            "Игра: 204\tНаграда за игру: 124\n",
            "Игра: 205\tНаграда за игру: 99\n",
            "Игра: 206\tНаграда за игру: 118\n",
            "Игра: 207\tНаграда за игру: 106\n",
            "Игра: 208\tНаграда за игру: 108\n",
            "Игра: 209\tНаграда за игру: 112\n",
            "Игра: 210\tНаграда за игру: 119\n",
            "Игра: 211\tНаграда за игру: 113\n",
            "Игра: 212\tНаграда за игру: 105\n",
            "Игра: 213\tНаграда за игру: 102\n",
            "Игра: 214\tНаграда за игру: 106\n",
            "Игра: 215\tНаграда за игру: 107\n",
            "Игра: 216\tНаграда за игру: 108\n",
            "Игра: 217\tНаграда за игру: 111\n",
            "Игра: 218\tНаграда за игру: 102\n",
            "Игра: 219\tНаграда за игру: 103\n",
            "Игра: 220\tНаграда за игру: 118\n",
            "Игра: 221\tНаграда за игру: 104\n",
            "Игра: 222\tНаграда за игру: 119\n",
            "Игра: 223\tНаграда за игру: 102\n",
            "Игра: 224\tНаграда за игру: 108\n",
            "Игра: 225\tНаграда за игру: 108\n",
            "Игра: 226\tНаграда за игру: 104\n",
            "Игра: 227\tНаграда за игру: 103\n",
            "Игра: 228\tНаграда за игру: 120\n",
            "Игра: 229\tНаграда за игру: 103\n",
            "Игра: 230\tНаграда за игру: 109\n",
            "Игра: 231\tНаграда за игру: 118\n",
            "Игра: 232\tНаграда за игру: 112\n",
            "Игра: 233\tНаграда за игру: 114\n",
            "Игра: 234\tНаграда за игру: 107\n",
            "Игра: 235\tНаграда за игру: 111\n",
            "Игра: 236\tНаграда за игру: 113\n",
            "Игра: 237\tНаграда за игру: 106\n",
            "Игра: 238\tНаграда за игру: 112\n",
            "Игра: 239\tНаграда за игру: 98\n",
            "Игра: 240\tНаграда за игру: 122\n",
            "Игра: 241\tНаграда за игру: 108\n",
            "Игра: 242\tНаграда за игру: 113\n",
            "Игра: 243\tНаграда за игру: 109\n",
            "Игра: 244\tНаграда за игру: 104\n",
            "Игра: 245\tНаграда за игру: 99\n",
            "Игра: 246\tНаграда за игру: 115\n",
            "Игра: 247\tНаграда за игру: 106\n",
            "Игра: 248\tНаграда за игру: 124\n",
            "Игра: 249\tНаграда за игру: 128\n",
            "Игра: 250\tНаграда за игру: 112\n",
            "Игра: 251\tНаграда за игру: 115\n",
            "Игра: 252\tНаграда за игру: 121\n",
            "Игра: 253\tНаграда за игру: 117\n",
            "Игра: 254\tНаграда за игру: 120\n",
            "Игра: 255\tНаграда за игру: 100\n",
            "Игра: 256\tНаграда за игру: 122\n",
            "Игра: 257\tНаграда за игру: 118\n",
            "Игра: 258\tНаграда за игру: 117\n",
            "Игра: 259\tНаграда за игру: 116\n",
            "Игра: 260\tНаграда за игру: 102\n",
            "Игра: 261\tНаграда за игру: 103\n",
            "Игра: 262\tНаграда за игру: 109\n",
            "Игра: 263\tНаграда за игру: 111\n",
            "Игра: 264\tНаграда за игру: 113\n",
            "Игра: 265\tНаграда за игру: 112\n",
            "Игра: 266\tНаграда за игру: 120\n",
            "Игра: 267\tНаграда за игру: 126\n",
            "Игра: 268\tНаграда за игру: 110\n",
            "Игра: 269\tНаграда за игру: 100\n",
            "Игра: 270\tНаграда за игру: 115\n",
            "Игра: 271\tНаграда за игру: 108\n",
            "Игра: 272\tНаграда за игру: 116\n",
            "Игра: 273\tНаграда за игру: 105\n",
            "Игра: 274\tНаграда за игру: 124\n",
            "Игра: 275\tНаграда за игру: 104\n",
            "Игра: 276\tНаграда за игру: 108\n",
            "Игра: 277\tНаграда за игру: 119\n",
            "Игра: 278\tНаграда за игру: 109\n",
            "Игра: 279\tНаграда за игру: 116\n",
            "Игра: 280\tНаграда за игру: 100\n",
            "Игра: 281\tНаграда за игру: 107\n",
            "Игра: 282\tНаграда за игру: 109\n",
            "Игра: 283\tНаграда за игру: 111\n",
            "Игра: 284\tНаграда за игру: 100\n",
            "Игра: 285\tНаграда за игру: 119\n",
            "Игра: 286\tНаграда за игру: 101\n",
            "Игра: 287\tНаграда за игру: 110\n",
            "Игра: 288\tНаграда за игру: 100\n",
            "Игра: 289\tНаграда за игру: 117\n",
            "Игра: 290\tНаграда за игру: 109\n",
            "Игра: 291\tНаграда за игру: 99\n",
            "Игра: 292\tНаграда за игру: 106\n",
            "Игра: 293\tНаграда за игру: 118\n",
            "Игра: 294\tНаграда за игру: 100\n",
            "Игра: 295\tНаграда за игру: 114\n",
            "Игра: 296\tНаграда за игру: 118\n",
            "Игра: 297\tНаграда за игру: 109\n",
            "Игра: 298\tНаграда за игру: 105\n",
            "Игра: 299\tНаграда за игру: 114\n"
          ]
        }
      ]
    },
    {
      "cell_type": "code",
      "source": [
        "scores = np.array(scores)\n",
        "print(f'Процент \"успешных\" прохождений: {(len(scores[scores > 100]) / len(scores)) * 100}%')"
      ],
      "metadata": {
        "colab": {
          "base_uri": "https://localhost:8080/"
        },
        "id": "jeFFL8Esh8vf",
        "outputId": "fe8d8e9a-1e7e-4014-a625-28825ebb52c7"
      },
      "execution_count": null,
      "outputs": [
        {
          "output_type": "stream",
          "name": "stdout",
          "text": [
            "Процент \"успешных\" прохождений: 93.0%\n"
          ]
        }
      ]
    },
    {
      "cell_type": "code",
      "source": [
        "m = scores.mean()\n",
        "plt.figure(figsize=(15, 7))\n",
        "plt.plot(scores, label='score')\n",
        "plt.plot([100 for _ in scores], label='score=100')\n",
        "plt.plot([m for _ in scores], label='mean score')\n",
        "plt.legend()"
      ],
      "metadata": {
        "colab": {
          "base_uri": "https://localhost:8080/",
          "height": 445
        },
        "id": "rqjNi6s4h-J0",
        "outputId": "7d22acdb-cae4-4682-f208-e6563851c553"
      },
      "execution_count": null,
      "outputs": [
        {
          "output_type": "execute_result",
          "data": {
            "text/plain": [
              "<matplotlib.legend.Legend at 0x7ff7c1a0f250>"
            ]
          },
          "metadata": {},
          "execution_count": 44
        },
        {
          "output_type": "display_data",
          "data": {
            "text/plain": [
              "<Figure size 1080x504 with 1 Axes>"
            ],
            "image/png": "[encoded data removed]"
          },
          "metadata": {
            "needs_background": "light"
          }
        }
      ]
    },
    {
      "cell_type": "markdown",
      "source": [
        "Как видно, при данных параметрах, агенту удалось обучиться в большинстве случаев получать награду больше 100. Это означает, что в течение более чем 100 шагов стержень балансирует на тележке."
      ],
      "metadata": {
        "id": "_scCR9WA5jgc"
      }
    },
    {
      "cell_type": "markdown",
      "source": [
        "Тем не менее, присутствует фактор случайности. А также сохраняется разброс значений, который можно устранить дополнитльным подбором гиперпараметров и пересмотром архитектуры нейронной сети."
      ],
      "metadata": {
        "id": "ukPp34Td5zfk"
      }
    },
    {
      "cell_type": "markdown",
      "source": [
        "## Задания лабораторной работы"
      ],
      "metadata": {
        "id": "g6VWM8zJl_-y"
      }
    },
    {
      "cell_type": "markdown",
      "source": [
        "### Основные задания"
      ],
      "metadata": {
        "id": "fFUwXYjTnKbi"
      }
    },
    {
      "cell_type": "markdown",
      "source": [
        "1. Заполнить пропуски в ячейках, добиться рабочего кода для метода DQN. <b> 6 баллов </b>\n",
        "<br /><br />\n",
        "Итого за лабораторную работу: 6 баллов."
      ],
      "metadata": {
        "id": "cDtPQ8RfmFeq"
      }
    },
    {
      "cell_type": "markdown",
      "source": [
        "### Дополнительные задания"
      ],
      "metadata": {
        "id": "IV4BMoEaOevC"
      }
    },
    {
      "cell_type": "markdown",
      "source": [
        "1. Решить любое из игровых окружений окружений Atari (https://www.gymlibrary.dev/environments/atari/complete_list/) с помощью сверточной нейронной сети. В этих окружениях состояния - это отдельные кадры. <b>4 балла</b>"
      ],
      "metadata": {
        "id": "r1k21rZzOkHC"
      }
    },
    {
      "cell_type": "markdown",
      "source": [
        "2. Решить любое окружение с использованием keras-rl и DQNAgent. <b>2 балла</b>"
      ],
      "metadata": {
        "id": "VGEHCNl1PGWK"
      }
    },
    {
      "cell_type": "markdown",
      "source": [
        "### Замечания"
      ],
      "metadata": {
        "id": "bdriwReLnvN5"
      }
    },
    {
      "cell_type": "markdown",
      "source": [
        "1. Выполнять задания можно в Google Colab или локально в среде Jupiter Notebook. При выполнении задания локально не требуется настройка и установка зависимостей для виртуального дисплея (и использование кастомной функции visualize). При вызове метода env.render создастся окно с визуализацией."
      ],
      "metadata": {
        "id": "jynEW3SUnxoZ"
      }
    }
  ]
}